{
  "nbformat": 4,
  "nbformat_minor": 0,
  "metadata": {
    "colab": {
      "provenance": [],
      "collapsed_sections": [],
      "toc_visible": true,
      "authorship_tag": "ABX9TyNlraygfwAk0eeKvqXPw1Oh",
      "include_colab_link": true
    },
    "kernelspec": {
      "name": "python3",
      "display_name": "Python 3"
    },
    "language_info": {
      "name": "python"
    }
  },
  "cells": [
    {
      "cell_type": "markdown",
      "metadata": {
        "id": "view-in-github",
        "colab_type": "text"
      },
      "source": [
        "<a href=\"https://colab.research.google.com/github/Saitou0813/DeepLearning2022Late/blob/main/%E3%83%A2%E3%82%B8%E3%83%A5%E3%83%BC%E3%83%AB%E3%81%A8%E3%83%A9%E3%82%A4%E3%83%96%E3%83%A9%E3%83%AA%E3%81%AE%E4%BD%BF%E7%94%A80920.ipynb\" target=\"_parent\"><img src=\"https://colab.research.google.com/assets/colab-badge.svg\" alt=\"Open In Colab\"/></a>"
      ]
    },
    {
      "cell_type": "markdown",
      "source": [
        "# モジュールを使う\n",
        "## import文でモジュールを読み込んで使う\n",
        "例) math"
      ],
      "metadata": {
        "id": "muxfoEX59NZi"
      }
    },
    {
      "cell_type": "code",
      "source": [
        "# importモジュールを読み込む\n",
        "import math\n",
        "print(math.pi) # mathの中に定義してある円周率を表示\n",
        "print(math.pow(5,2)) # 5の2乗\n",
        "print(math.sqrt(4)) # 4の平方根"
      ],
      "metadata": {
        "colab": {
          "base_uri": "https://localhost:8080/"
        },
        "id": "vNsJZUpr9NB5",
        "outputId": "5af5c5d1-7927-4442-a773-20b3ac1d789c"
      },
      "execution_count": 1,
      "outputs": [
        {
          "output_type": "stream",
          "name": "stdout",
          "text": [
            "3.141592653589793\n",
            "25.0\n",
            "2.0\n"
          ]
        }
      ]
    },
    {
      "cell_type": "markdown",
      "source": [
        "## Numpy --数値計算用の便利なライブラリ\n",
        "\n",
        "\n",
        "https://numpy.org/"
      ],
      "metadata": {
        "id": "Hx4yl2zF_VQg"
      }
    },
    {
      "cell_type": "code",
      "execution_count": 2,
      "metadata": {
        "id": "_5BPZA4V8vqa"
      },
      "outputs": [],
      "source": [
        "# numpyをimport\n",
        "import numpy as np # numpyをnpという名前に変更"
      ]
    },
    {
      "cell_type": "markdown",
      "source": [
        "### numpy配列(ndarray)を作る"
      ],
      "metadata": {
        "id": "gKWGTcgzos5G"
      }
    },
    {
      "cell_type": "code",
      "source": [
        "#リストを引き渡してndarrayを作る\n",
        "a = np.array([5, 7, 3, 1, 4, 3 ])\n",
        "print(a)"
      ],
      "metadata": {
        "colab": {
          "base_uri": "https://localhost:8080/"
        },
        "id": "OA_cygw-ozKu",
        "outputId": "c47eaee8-5169-4449-be95-7b5164f23cbb"
      },
      "execution_count": 3,
      "outputs": [
        {
          "output_type": "stream",
          "name": "stdout",
          "text": [
            "[5 7 3 1 4 3]\n"
          ]
        }
      ]
    },
    {
      "cell_type": "markdown",
      "source": [
        "## Numpyで配列の操作をしてみる\n",
        "### 配列を構成しなおす"
      ],
      "metadata": {
        "id": "tkhJwouyqQDZ"
      }
    },
    {
      "cell_type": "code",
      "source": [
        "#現在、aは1行1次元配列\n",
        "print(a)\n",
        "#aを3行2列の2次元配列に構成しなおす\n",
        "b = a.reshape([3,2])#新しい配列の構成を引数で指定する\n",
        "print(b)"
      ],
      "metadata": {
        "colab": {
          "base_uri": "https://localhost:8080/"
        },
        "id": "OVH8Cuxvpsa3",
        "outputId": "6f4f4356-5de7-479d-973e-59ed04515b32"
      },
      "execution_count": 4,
      "outputs": [
        {
          "output_type": "stream",
          "name": "stdout",
          "text": [
            "[5 7 3 1 4 3]\n",
            "[[5 7]\n",
            " [3 1]\n",
            " [4 3]]\n"
          ]
        }
      ]
    },
    {
      "cell_type": "markdown",
      "source": [
        "### Numpy配列の中身を初期化して作る"
      ],
      "metadata": {
        "id": "UiLybzAhsEsJ"
      }
    },
    {
      "cell_type": "code",
      "source": [
        "#3行4列の0が入った2次元配列を作る\n",
        "c = np.zeros((3,4))\n",
        "print(c)\n",
        "#ランダムな値が入った配列を作る\n",
        "np.random.seed(0)\n",
        "r = np.random.rand(3,4)\n",
        "print(r)"
      ],
      "metadata": {
        "colab": {
          "base_uri": "https://localhost:8080/"
        },
        "id": "2OH-x2Zrq83W",
        "outputId": "a6ebb8ad-7d61-4a0a-a11d-f9fd228b16c9"
      },
      "execution_count": 5,
      "outputs": [
        {
          "output_type": "stream",
          "name": "stdout",
          "text": [
            "[[0. 0. 0. 0.]\n",
            " [0. 0. 0. 0.]\n",
            " [0. 0. 0. 0.]]\n",
            "[[0.5488135  0.71518937 0.60276338 0.54488318]\n",
            " [0.4236548  0.64589411 0.43758721 0.891773  ]\n",
            " [0.96366276 0.38344152 0.79172504 0.52889492]]\n"
          ]
        }
      ]
    },
    {
      "cell_type": "markdown",
      "source": [
        "## Numpyのスライスのやり方\n",
        "### 基本\n",
        "スライスの指定の仕方\n",
        "[start : stoo : step]\n",
        "で指定する"
      ],
      "metadata": {
        "id": "9O6DoBf6ujUD"
      }
    },
    {
      "cell_type": "code",
      "source": [
        "#リストのスライス\n",
        "l = list(range(10)) #0～9までの10個の要素のリスト\n",
        "print(l)\n",
        "print(l[4:8])  #4～8でスライス\n",
        "print(l[: : -1]) #stepを-1でスライス"
      ],
      "metadata": {
        "id": "H3HdWbEksniI",
        "colab": {
          "base_uri": "https://localhost:8080/"
        },
        "outputId": "dbb19f79-6ee7-4e84-b8ec-6c920c275148"
      },
      "execution_count": 6,
      "outputs": [
        {
          "output_type": "stream",
          "name": "stdout",
          "text": [
            "[0, 1, 2, 3, 4, 5, 6, 7, 8, 9]\n",
            "[4, 5, 6, 7]\n",
            "[9, 8, 7, 6, 5, 4, 3, 2, 1, 0]\n"
          ]
        }
      ]
    },
    {
      "cell_type": "markdown",
      "source": [
        "### 1次元のNumpy配列(ndarray)におけるスライス"
      ],
      "metadata": {
        "id": "WZcBnRCZxBHZ"
      }
    },
    {
      "cell_type": "code",
      "source": [
        "#範囲を指定してndarrayを作る\n",
        "a = np.arange(10) #0～9の10個の要素のndarray\n",
        "print(a)\n",
        "print(a[2:8])\n",
        "print(a[2:8:2]) #step2で2個とばし\n",
        "print(a[2:8:3])"
      ],
      "metadata": {
        "colab": {
          "base_uri": "https://localhost:8080/"
        },
        "id": "UD2oGs9uvLRx",
        "outputId": "c3451d74-472b-4de8-eda4-837d4fbe7fb0"
      },
      "execution_count": 7,
      "outputs": [
        {
          "output_type": "stream",
          "name": "stdout",
          "text": [
            "[0 1 2 3 4 5 6 7 8 9]\n",
            "[2 3 4 5 6 7]\n",
            "[2 4 6]\n",
            "[2 5]\n"
          ]
        }
      ]
    },
    {
      "cell_type": "markdown",
      "source": [
        "###1次元配列のndarrayのスライスに代入"
      ],
      "metadata": {
        "id": "zLcKRk-yzdiN"
      }
    },
    {
      "cell_type": "code",
      "source": [
        "print(a)\n",
        "a[3:6] = 100 #指定した範囲に特定の値を代入\n",
        "print(a)\n",
        "a[3:6] = [100, 200, 300] #指定した範囲にリストの値を代入\n",
        "print(a)\n",
        "#a[3:6] = [100, 200, 300, 400] #3つの範囲を4つの要素で上書き(エラー)\n",
        "a = np.arange(10)\n",
        "print(a)\n",
        "a[2:8:2] = 100 #star2sto8にstep2で上書き\n",
        "print(a)"
      ],
      "metadata": {
        "colab": {
          "base_uri": "https://localhost:8080/"
        },
        "id": "gecMK6G6x3LB",
        "outputId": "5df4318b-fb68-4da8-ad23-513c2edc7eb8"
      },
      "execution_count": 8,
      "outputs": [
        {
          "output_type": "stream",
          "name": "stdout",
          "text": [
            "[0 1 2 3 4 5 6 7 8 9]\n",
            "[  0   1   2 100 100 100   6   7   8   9]\n",
            "[  0   1   2 100 200 300   6   7   8   9]\n",
            "[0 1 2 3 4 5 6 7 8 9]\n",
            "[  0   1 100   3 100   5 100   7   8   9]\n"
          ]
        }
      ]
    },
    {
      "cell_type": "markdown",
      "source": [
        "## 多次元配列のスライス"
      ],
      "metadata": {
        "id": "KK_WFrki2z4O"
      }
    },
    {
      "cell_type": "code",
      "source": [
        "#3行4列の2次元配列を作る\n",
        "a = np.arange(12).reshape((3,4))\n",
        "print(a)\n",
        "#2行目から終わりまでの行 = [1:]\n",
        "#2列目から4列目手前までの列 = [1:3]\n",
        "print(a[1:,1:3])\n",
        "b = np.arange(20).reshape((5,4))\n",
        "print(b)\n",
        "#9,10 13,14 17,18 3行2列\n",
        "print(b[2:,1:3])"
      ],
      "metadata": {
        "colab": {
          "base_uri": "https://localhost:8080/"
        },
        "id": "yNljN3Fzzw-G",
        "outputId": "a0e50a85-ba36-4f49-eb0b-37da40a5fe23"
      },
      "execution_count": 11,
      "outputs": [
        {
          "output_type": "stream",
          "name": "stdout",
          "text": [
            "[[ 0  1  2  3]\n",
            " [ 4  5  6  7]\n",
            " [ 8  9 10 11]]\n",
            "[[ 5  6]\n",
            " [ 9 10]]\n",
            "[[ 0  1  2  3]\n",
            " [ 4  5  6  7]\n",
            " [ 8  9 10 11]\n",
            " [12 13 14 15]\n",
            " [16 17 18 19]]\n",
            "[[ 9 10]\n",
            " [13 14]\n",
            " [17 18]]\n"
          ]
        }
      ]
    },
    {
      "cell_type": "markdown",
      "source": [
        "### 多次元のndarrayへのスライスでの代入"
      ],
      "metadata": {
        "id": "Wv315jAWeqsO"
      }
    },
    {
      "cell_type": "code",
      "source": [
        "#要素数12の3行4列の2次元配列を作る\n",
        "a = np.arange(12).reshape(3,4)\n",
        "print(a)\n",
        "#5, 6, 9, 10の部分をスライス\n",
        "print(a[1:,1:3])\n",
        "a[1:,1:3] = 100\n",
        "print(a)\n",
        "a = np.arange(12).reshape(3,4)\n",
        "#多次元での上書きにリストを使う\n",
        "a[1:,1:3] = [100, 200]\n",
        "print(a)\n",
        "#多次元の上書きに2次元のリストを使う\n",
        "a[1:,1:3] = [[100, 200], [300, 400]]\n",
        "print(a)"
      ],
      "metadata": {
        "id": "QGn60een3KQX",
        "colab": {
          "base_uri": "https://localhost:8080/"
        },
        "outputId": "28d90b4b-aaec-4e6d-976a-c0c66fa35d4e"
      },
      "execution_count": 16,
      "outputs": [
        {
          "output_type": "stream",
          "name": "stdout",
          "text": [
            "[[ 0  1  2  3]\n",
            " [ 4  5  6  7]\n",
            " [ 8  9 10 11]]\n",
            "[[ 5  6]\n",
            " [ 9 10]]\n",
            "[[  0   1   2   3]\n",
            " [  4 100 100   7]\n",
            " [  8 100 100  11]]\n",
            "[[  0   1   2   3]\n",
            " [  4 100 200   7]\n",
            " [  8 100 200  11]]\n",
            "[[  0   1   2   3]\n",
            " [  4 100 200   7]\n",
            " [  8 300 400  11]]\n"
          ]
        }
      ]
    },
    {
      "cell_type": "markdown",
      "source": [
        "### 多次元のndarrayへのstepを使ったスライスの代入"
      ],
      "metadata": {
        "id": "lTiKhdHTiVIB"
      }
    },
    {
      "cell_type": "code",
      "source": [
        "#要素数12　3行4列のndarrayを作ってaに代入\n",
        "a = np.arange(12).reshape(3,4)\n",
        "print(a)\n",
        "#スライスにstepを使ってみる 4, 6, 8, 10を抜き出す\n",
        "print(a[1:,::2])\n",
        "#0, 3, 4, 7　を抜き出す\n",
        "print(a[:2,::3])\n",
        "#4, 6, 8, 10だったところを100で上書き\n",
        "a[1:,::2] = 100\n",
        "print(a)\n",
        "#4, 6, 8, 10だったところを多次元のリストで上書き\n",
        "a[1:,::2] = [[100,200],[300,400]]\n",
        "print(a)"
      ],
      "metadata": {
        "colab": {
          "base_uri": "https://localhost:8080/"
        },
        "id": "oJ3Yh7DPfKmQ",
        "outputId": "0723797d-30e8-44e8-aac5-e817d6fa32d7"
      },
      "execution_count": 23,
      "outputs": [
        {
          "output_type": "stream",
          "name": "stdout",
          "text": [
            "[[ 0  1  2  3]\n",
            " [ 4  5  6  7]\n",
            " [ 8  9 10 11]]\n",
            "[[ 4  6]\n",
            " [ 8 10]]\n",
            "[[0 3]\n",
            " [4 7]]\n",
            "[[  0   1   2   3]\n",
            " [100   5 100   7]\n",
            " [100   9 100  11]]\n",
            "[[  0   1   2   3]\n",
            " [100   5 200   7]\n",
            " [300   9 400  11]]\n"
          ]
        }
      ]
    },
    {
      "cell_type": "code",
      "source": [],
      "metadata": {
        "id": "rXARkcNIjvnq"
      },
      "execution_count": null,
      "outputs": []
    }
  ]
}