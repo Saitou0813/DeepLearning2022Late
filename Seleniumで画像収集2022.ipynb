{
  "nbformat": 4,
  "nbformat_minor": 0,
  "metadata": {
    "colab": {
      "provenance": [],
      "authorship_tag": "ABX9TyP+7izBdrJD/hNGhGuAMvW5",
      "include_colab_link": true
    },
    "kernelspec": {
      "name": "python3",
      "display_name": "Python 3"
    },
    "language_info": {
      "name": "python"
    }
  },
  "cells": [
    {
      "cell_type": "markdown",
      "metadata": {
        "id": "view-in-github",
        "colab_type": "text"
      },
      "source": [
        "<a href=\"https://colab.research.google.com/github/Saitou0813/DeepLearning2022Late/blob/main/Selenium%E3%81%A7%E7%94%BB%E5%83%8F%E5%8F%8E%E9%9B%862022.ipynb\" target=\"_parent\"><img src=\"https://colab.research.google.com/assets/colab-badge.svg\" alt=\"Open In Colab\"/></a>"
      ]
    },
    {
      "cell_type": "markdown",
      "source": [
        "##seleniumを使って自動で画像検索し、結果を収集する"
      ],
      "metadata": {
        "id": "4b-pfCHv2MUu"
      }
    },
    {
      "cell_type": "markdown",
      "source": [
        "##必要なアプリのインストール\n",
        "Seleniumのインストール(バージョンを指定する)"
      ],
      "metadata": {
        "id": "jSylnnkF21wt"
      }
    },
    {
      "cell_type": "code",
      "execution_count": 18,
      "metadata": {
        "colab": {
          "base_uri": "https://localhost:8080/"
        },
        "id": "aH6_IWkq1mBd",
        "outputId": "e920949b-b5b3-48aa-ce55-1f1b595e5d23"
      },
      "outputs": [
        {
          "output_type": "stream",
          "name": "stdout",
          "text": [
            "Looking in indexes: https://pypi.org/simple, https://us-python.pkg.dev/colab-wheels/public/simple/\n",
            "Requirement already satisfied: selenium==4.1.0 in /usr/local/lib/python3.7/dist-packages (4.1.0)\n",
            "Requirement already satisfied: trio-websocket~=0.9 in /usr/local/lib/python3.7/dist-packages (from selenium==4.1.0) (0.9.2)\n",
            "Requirement already satisfied: urllib3[secure]~=1.26 in /usr/local/lib/python3.7/dist-packages (from selenium==4.1.0) (1.26.13)\n",
            "Requirement already satisfied: trio~=0.17 in /usr/local/lib/python3.7/dist-packages (from selenium==4.1.0) (0.22.0)\n",
            "Requirement already satisfied: sniffio in /usr/local/lib/python3.7/dist-packages (from trio~=0.17->selenium==4.1.0) (1.3.0)\n",
            "Requirement already satisfied: exceptiongroup>=1.0.0rc9 in /usr/local/lib/python3.7/dist-packages (from trio~=0.17->selenium==4.1.0) (1.0.4)\n",
            "Requirement already satisfied: sortedcontainers in /usr/local/lib/python3.7/dist-packages (from trio~=0.17->selenium==4.1.0) (2.4.0)\n",
            "Requirement already satisfied: async-generator>=1.9 in /usr/local/lib/python3.7/dist-packages (from trio~=0.17->selenium==4.1.0) (1.10)\n",
            "Requirement already satisfied: outcome in /usr/local/lib/python3.7/dist-packages (from trio~=0.17->selenium==4.1.0) (1.2.0)\n",
            "Requirement already satisfied: attrs>=19.2.0 in /usr/local/lib/python3.7/dist-packages (from trio~=0.17->selenium==4.1.0) (22.1.0)\n",
            "Requirement already satisfied: idna in /usr/local/lib/python3.7/dist-packages (from trio~=0.17->selenium==4.1.0) (2.10)\n",
            "Requirement already satisfied: wsproto>=0.14 in /usr/local/lib/python3.7/dist-packages (from trio-websocket~=0.9->selenium==4.1.0) (1.2.0)\n",
            "Requirement already satisfied: cryptography>=1.3.4 in /usr/local/lib/python3.7/dist-packages (from urllib3[secure]~=1.26->selenium==4.1.0) (38.0.4)\n",
            "Requirement already satisfied: certifi in /usr/local/lib/python3.7/dist-packages (from urllib3[secure]~=1.26->selenium==4.1.0) (2022.9.24)\n",
            "Requirement already satisfied: urllib3-secure-extra in /usr/local/lib/python3.7/dist-packages (from urllib3[secure]~=1.26->selenium==4.1.0) (0.1.0)\n",
            "Requirement already satisfied: pyOpenSSL>=0.14 in /usr/local/lib/python3.7/dist-packages (from urllib3[secure]~=1.26->selenium==4.1.0) (22.1.0)\n",
            "Requirement already satisfied: cffi>=1.12 in /usr/local/lib/python3.7/dist-packages (from cryptography>=1.3.4->urllib3[secure]~=1.26->selenium==4.1.0) (1.15.1)\n",
            "Requirement already satisfied: pycparser in /usr/local/lib/python3.7/dist-packages (from cffi>=1.12->cryptography>=1.3.4->urllib3[secure]~=1.26->selenium==4.1.0) (2.21)\n",
            "Requirement already satisfied: h11<1,>=0.9.0 in /usr/local/lib/python3.7/dist-packages (from wsproto>=0.14->trio-websocket~=0.9->selenium==4.1.0) (0.14.0)\n",
            "Requirement already satisfied: typing-extensions in /usr/local/lib/python3.7/dist-packages (from h11<1,>=0.9.0->wsproto>=0.14->trio-websocket~=0.9->selenium==4.1.0) (4.1.1)\n"
          ]
        }
      ],
      "source": [
        "!pip install selenium==4.1.0"
      ]
    },
    {
      "cell_type": "markdown",
      "source": [
        "### chromium-chromedriverのインストール"
      ],
      "metadata": {
        "id": "b0GLNsxL3bOC"
      }
    },
    {
      "cell_type": "code",
      "source": [
        "!apt install chromium-chromedriver"
      ],
      "metadata": {
        "colab": {
          "base_uri": "https://localhost:8080/"
        },
        "id": "sULB3GQJ3Efm",
        "outputId": "ece12ab2-062f-4612-8393-97b4924a2f0d"
      },
      "execution_count": 19,
      "outputs": [
        {
          "output_type": "stream",
          "name": "stdout",
          "text": [
            "Reading package lists... Done\n",
            "Building dependency tree       \n",
            "Reading state information... Done\n",
            "chromium-chromedriver is already the newest version (107.0.5304.87-0ubuntu11.18.04.1).\n",
            "The following package was automatically installed and is no longer required:\n",
            "  libnvidia-common-460\n",
            "Use 'apt autoremove' to remove it.\n",
            "0 upgraded, 0 newly installed, 0 to remove and 5 not upgraded.\n"
          ]
        }
      ]
    },
    {
      "cell_type": "markdown",
      "source": [
        "###seleniumを実行して操作する"
      ],
      "metadata": {
        "id": "hTeJqJJt5Deb"
      }
    },
    {
      "cell_type": "markdown",
      "source": [
        "### その他のライブラリのimport"
      ],
      "metadata": {
        "id": "nB_IOSQK45qU"
      }
    },
    {
      "cell_type": "code",
      "source": [
        "import requests\n",
        "from selenium import webdriver\n",
        "from selenium.webdriver.chrome.options import Options\n",
        "import os\n",
        "import time\n",
        "import datetime\n",
        "# エラー処理用\n",
        "from selenium.common.exceptions import NoSuchElementException\n",
        "from selenium.common.exceptions import ElementClickInterceptedException"
      ],
      "metadata": {
        "id": "WbCIJuWP4DTh"
      },
      "execution_count": 20,
      "outputs": []
    },
    {
      "cell_type": "markdown",
      "source": [
        "### ログ用に時刻を取得"
      ],
      "metadata": {
        "id": "684IDybZ7HTP"
      }
    },
    {
      "cell_type": "code",
      "source": [
        "tm_start = time.time()# 処理時間計測用\n",
        "dt_now=datetime.datetime.now()# 現在日時\n",
        "dt_date_str = dt_now.strftime('%Y/%m/%d %H:%M')# 書式指定して変換\n",
        "print(dt_date_str)"
      ],
      "metadata": {
        "colab": {
          "base_uri": "https://localhost:8080/"
        },
        "id": "ZK9f5X3i6X6h",
        "outputId": "35d7a719-f1a3-433a-f116-9b7e418ac0b2"
      },
      "execution_count": 21,
      "outputs": [
        {
          "output_type": "stream",
          "name": "stdout",
          "text": [
            "2022/11/29 03:24\n"
          ]
        }
      ]
    },
    {
      "cell_type": "markdown",
      "source": [
        "### 検索に関する設定値を定義する"
      ],
      "metadata": {
        "id": "kuqLZ2J_9YAA"
      }
    },
    {
      "cell_type": "code",
      "source": [
        "QUERY = '犬 フリー'# 検索したいキーワード\n",
        "LIMIT_DL_NUM=100 # ダウンロード数の上限\n",
        "SAVE_DIR='img/dog'# 出力フォルダ(自動生成させる)\n",
        "FILE_NAME='dog'# ファイル名(後ろに連番と拡張子をつけていく)\n",
        "TIMEOUT=60 #検索のタイムアウト(秒)\n",
        "ACCESS_WAIT=1# アクセスする間隔(秒)←超重要\n",
        "RETRY_NUM=3# クリックやrequestのリトライ回数\n",
        "DRIVER_PATH='/usr/bin/chromedriver'# chromedriver.exeへのパス"
      ],
      "metadata": {
        "id": "heJ8k6fw8WqL"
      },
      "execution_count": 22,
      "outputs": []
    },
    {
      "cell_type": "markdown",
      "source": [
        "## Chromeをヘッドレスモードで起動する\n",
        "ヘッドレスモード = ブラウザを画面に開かないで実行するモード"
      ],
      "metadata": {
        "id": "ne-XIsh8AS8z"
      }
    },
    {
      "cell_type": "code",
      "source": [
        "# optionの指定を準備\n",
        "options = Options()\n",
        "options.add_argument('--headless')\n",
        "options.add_argument('--no-sandbox')\n",
        "options.add_argument('--disable-dev-shm-usage')\n",
        "options.add_argument('start-fullscreen')\n",
        "options.add_argument('--disable-plugins')\n",
        "options.add_argument('--disable-extensions')\n",
        "# 起動する\n",
        "driver=webdriver.Chrome(DRIVER_PATH, options=options)\n",
        "driver.implicitly_wait(TIMEOUT)# タイムアウトを設定\n",
        "# ログに処理時間を出力\n",
        "tm_driver=time.time()\n",
        "print('WebDriver起動完了',f'{tm_driver-tm_start}s')"
      ],
      "metadata": {
        "colab": {
          "base_uri": "https://localhost:8080/"
        },
        "id": "eM8GzP-1_d5Z",
        "outputId": "37e44038-4611-4a8b-f80d-0a1ccae7e60b"
      },
      "execution_count": 23,
      "outputs": [
        {
          "output_type": "stream",
          "name": "stderr",
          "text": [
            "/usr/local/lib/python3.7/dist-packages/ipykernel_launcher.py:10: DeprecationWarning: executable_path has been deprecated, please pass in a Service object\n",
            "  # Remove the CWD from sys.path while we load stuff.\n"
          ]
        },
        {
          "output_type": "stream",
          "name": "stdout",
          "text": [
            "WebDriver起動完了 1.0781919956207275s\n"
          ]
        }
      ]
    },
    {
      "cell_type": "markdown",
      "source": [
        "## Googleの画像検索へのアクセス"
      ],
      "metadata": {
        "id": "NznCcAF9G69U"
      }
    },
    {
      "cell_type": "code",
      "source": [
        "#QUERY条件付きでURLを定義する\n",
        "url=f'https://www.google.com/search?q=%7BQUERY%7D&tbm=isch'\n",
        "# 組み立てたURLでアクセスして検索\n",
        "driver.get(url)\n",
        "tm_geturl=time.time()\n",
        "print('Google画像検索ページ取得',f'{tm_geturl-tm_driver:.1f}s')"
      ],
      "metadata": {
        "colab": {
          "base_uri": "https://localhost:8080/"
        },
        "id": "BMWfwKLgEDva",
        "outputId": "fbddd5a8-2856-45f1-9bc3-90616a2b523f"
      },
      "execution_count": 24,
      "outputs": [
        {
          "output_type": "stream",
          "name": "stdout",
          "text": [
            "Google画像検索ページ取得 2.0s\n"
          ]
        }
      ]
    },
    {
      "cell_type": "markdown",
      "source": [
        "#結果の要素を取得していく"
      ],
      "metadata": {
        "id": "HoPIqL6nPgsY"
      }
    },
    {
      "cell_type": "code",
      "source": [
        "#ページのサムネイル画像の要素群を取得\n",
        "#(islmpクラスが指定されたimg=サムネイルを全て拾う)\n",
        "tmb_elems = driver.find_elements_by_css_selector('#islmp img')\n",
        "#サムネイルのリストから各サムネイルのalt属性を取得\n",
        "tmb_alts = [tmb.get_attribute('alt') for tmb in tmb_elems]\n",
        "#alt属性が空(小さいサムネイル)のものを差し引いて合計を算出\n",
        "count = len(tmb_alts) - tmb_alts.count('')\n",
        "print(count)"
      ],
      "metadata": {
        "colab": {
          "base_uri": "https://localhost:8080/"
        },
        "id": "HNF1G1UPOE5h",
        "outputId": "1dae4051-2526-4a10-df61-000c7e1eac30"
      },
      "execution_count": 25,
      "outputs": [
        {
          "output_type": "stream",
          "name": "stderr",
          "text": [
            "/usr/local/lib/python3.7/dist-packages/ipykernel_launcher.py:3: DeprecationWarning: find_elements_by_* commands are deprecated. Please use find_elements() instead\n",
            "  This is separate from the ipykernel package so we can avoid doing imports until\n"
          ]
        },
        {
          "output_type": "stream",
          "name": "stdout",
          "text": [
            "48\n"
          ]
        }
      ]
    },
    {
      "cell_type": "markdown",
      "source": [
        "## 下にスクロールさせてさらに険悪結果を表示させてまたカウント"
      ],
      "metadata": {
        "id": "lB9Un2uLTHHz"
      }
    },
    {
      "cell_type": "code",
      "source": [
        "#定義したLIMIT_DL_NUM(ダウンロード数の上限)になるまでスクロールを繰り返す\n",
        "while count < LIMIT_DL_NUM:\n",
        "  #ページの一番下へスクロールして新しいサムネイル画像を表示させる\n",
        "  driver.execute_script('window.scrollTo(0, document.body.scrollHeight);')\n",
        "  time.sleep(1) #スリープを繰り返す間隔(秒)を入れる　←重要\n",
        "  tmb_elems = driver.find_elements_by_css_selector('#islmp img')\n",
        "  #サムネイルのリストから各サムネイルのalt属性を取得\n",
        "  tmb_alts = [tmb.get_attribute('alt') for tmb in tmb_elems]\n",
        "  #alt属性が空(小さいサムネイル)のものを差し引いて合計を算出\n",
        "  count = len(tmb_alts) - tmb_alts.count('')\n",
        "  print(count)"
      ],
      "metadata": {
        "colab": {
          "base_uri": "https://localhost:8080/"
        },
        "id": "W8LrPl_vSadY",
        "outputId": "4eb37a1c-96b4-44c1-e2be-00908d384745"
      },
      "execution_count": 26,
      "outputs": [
        {
          "output_type": "stream",
          "name": "stderr",
          "text": [
            "/usr/local/lib/python3.7/dist-packages/ipykernel_launcher.py:6: DeprecationWarning: find_elements_by_* commands are deprecated. Please use find_elements() instead\n",
            "  \n"
          ]
        },
        {
          "output_type": "stream",
          "name": "stdout",
          "text": [
            "100\n"
          ]
        }
      ]
    },
    {
      "cell_type": "markdown",
      "source": [
        "## サムネイル画像をクリックすると右側に開かれる領域をオブジェクトに取得"
      ],
      "metadata": {
        "id": "-SxSGYKDZnMl"
      }
    },
    {
      "cell_type": "code",
      "source": [
        "imgframe_elem = driver.find_element_by_id(('islsp'))"
      ],
      "metadata": {
        "colab": {
          "base_uri": "https://localhost:8080/"
        },
        "id": "eRpdPTqWZwj2",
        "outputId": "a534e1bf-bf74-4790-a92f-4810665c9ceb"
      },
      "execution_count": 27,
      "outputs": [
        {
          "output_type": "stream",
          "name": "stderr",
          "text": [
            "/usr/local/lib/python3.7/dist-packages/ipykernel_launcher.py:1: DeprecationWarning: find_element_by_* commands are deprecated. Please use find_element() instead\n",
            "  \"\"\"Entry point for launching an IPython kernel.\n"
          ]
        }
      ]
    },
    {
      "cell_type": "markdown",
      "source": [
        "### 画像へURLアクセスして保存する準備をする"
      ],
      "metadata": {
        "id": "0fMOo3q6aFBH"
      }
    },
    {
      "cell_type": "code",
      "source": [
        "# 画像の保存フォルダを作成\n",
        "os.makedirs(SAVE_DIR, exist_ok=True)\n",
        "# テキスト用のヘッダーを作る\n",
        "HTTP_HEADERS = {'User-Aget':driver.execute_script('return navigator.userAgent;')}\n",
        "print(HTTP_HEADERS)\n",
        "# ダウンロードしたい対象のファイル拡張子(extensions)\n",
        "IMG_EXTS = ('.jpg','.jpeg','.pmg','.gif')"
      ],
      "metadata": {
        "colab": {
          "base_uri": "https://localhost:8080/"
        },
        "id": "epQjBYPxaDgF",
        "outputId": "5b40b530-20a7-4083-c742-27c5e32b451c"
      },
      "execution_count": 31,
      "outputs": [
        {
          "output_type": "stream",
          "name": "stdout",
          "text": [
            "{'User-Aget': 'Mozilla/5.0 (X11; Linux x86_64) AppleWebKit/537.36 (KHTML, like Gecko) HeadlessChrome/107.0.5304.87 Safari/537.36'}\n"
          ]
        }
      ]
    },
    {
      "cell_type": "markdown",
      "source": [
        "## ダウンロード中に利用する関数を定義する\n",
        "### 画像の拡張子を取得する関数"
      ],
      "metadata": {
        "id": "XOCOYGMIcTYZ"
      }
    },
    {
      "cell_type": "code",
      "source": [
        "# 拡張子を取得する関数\n",
        "def get_extensions(url):\n",
        "  url_lower = url.lower()\n",
        "  for img_ext in IMG_EXTS:# 拡張子のリストから1つずつ比較\n",
        "    if img_ext in url_lower:\n",
        "      extension = '.jpg' if img_ext == '.jpeg' else img_ext\n",
        "      break\n",
        "      # if終わり\n",
        "    else:\n",
        "      extension = ''\n",
        "    # for終わり\n",
        "  return extension"
      ],
      "metadata": {
        "id": "TTSNU_1VaN2v"
      },
      "execution_count": 32,
      "outputs": []
    },
    {
      "cell_type": "code",
      "source": [],
      "metadata": {
        "id": "5Gen0SMYd2Yk"
      },
      "execution_count": null,
      "outputs": []
    }
  ]
}