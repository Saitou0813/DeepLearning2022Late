{
  "nbformat": 4,
  "nbformat_minor": 0,
  "metadata": {
    "colab": {
      "provenance": [],
      "authorship_tag": "ABX9TyPXA71+zXl5zVK028vrW7Ja",
      "include_colab_link": true
    },
    "kernelspec": {
      "name": "python3",
      "display_name": "Python 3"
    },
    "language_info": {
      "name": "python"
    },
    "gpuClass": "standard"
  },
  "cells": [
    {
      "cell_type": "markdown",
      "metadata": {
        "id": "view-in-github",
        "colab_type": "text"
      },
      "source": [
        "<a href=\"https://colab.research.google.com/github/Saitou0813/DeepLearning2022Late/blob/main/Selenium%E3%81%A7%E7%94%BB%E5%83%8F%E5%8F%8E%E9%9B%862022.ipynb\" target=\"_parent\"><img src=\"https://colab.research.google.com/assets/colab-badge.svg\" alt=\"Open In Colab\"/></a>"
      ]
    },
    {
      "cell_type": "markdown",
      "source": [
        "##seleniumを使って自動で画像検索し、結果を収集する"
      ],
      "metadata": {
        "id": "4b-pfCHv2MUu"
      }
    },
    {
      "cell_type": "markdown",
      "source": [
        "##必要なアプリのインストール\n",
        "Seleniumのインストール(バージョンを指定する)"
      ],
      "metadata": {
        "id": "jSylnnkF21wt"
      }
    },
    {
      "cell_type": "code",
      "execution_count": 1,
      "metadata": {
        "colab": {
          "base_uri": "https://localhost:8080/"
        },
        "id": "aH6_IWkq1mBd",
        "outputId": "5d86b8f4-7888-499d-be7a-a8b91d1b395f"
      },
      "outputs": [
        {
          "output_type": "stream",
          "name": "stdout",
          "text": [
            "Looking in indexes: https://pypi.org/simple, https://us-python.pkg.dev/colab-wheels/public/simple/\n",
            "Requirement already satisfied: selenium==4.1.0 in /usr/local/lib/python3.8/dist-packages (4.1.0)\n",
            "Requirement already satisfied: trio~=0.17 in /usr/local/lib/python3.8/dist-packages (from selenium==4.1.0) (0.22.0)\n",
            "Requirement already satisfied: urllib3[secure]~=1.26 in /usr/local/lib/python3.8/dist-packages (from selenium==4.1.0) (1.26.13)\n",
            "Requirement already satisfied: trio-websocket~=0.9 in /usr/local/lib/python3.8/dist-packages (from selenium==4.1.0) (0.9.2)\n",
            "Requirement already satisfied: sniffio in /usr/local/lib/python3.8/dist-packages (from trio~=0.17->selenium==4.1.0) (1.3.0)\n",
            "Requirement already satisfied: attrs>=19.2.0 in /usr/local/lib/python3.8/dist-packages (from trio~=0.17->selenium==4.1.0) (22.1.0)\n",
            "Requirement already satisfied: sortedcontainers in /usr/local/lib/python3.8/dist-packages (from trio~=0.17->selenium==4.1.0) (2.4.0)\n",
            "Requirement already satisfied: exceptiongroup>=1.0.0rc9 in /usr/local/lib/python3.8/dist-packages (from trio~=0.17->selenium==4.1.0) (1.0.4)\n",
            "Requirement already satisfied: idna in /usr/local/lib/python3.8/dist-packages (from trio~=0.17->selenium==4.1.0) (2.10)\n",
            "Requirement already satisfied: async-generator>=1.9 in /usr/local/lib/python3.8/dist-packages (from trio~=0.17->selenium==4.1.0) (1.10)\n",
            "Requirement already satisfied: outcome in /usr/local/lib/python3.8/dist-packages (from trio~=0.17->selenium==4.1.0) (1.2.0)\n",
            "Requirement already satisfied: wsproto>=0.14 in /usr/local/lib/python3.8/dist-packages (from trio-websocket~=0.9->selenium==4.1.0) (1.2.0)\n",
            "Requirement already satisfied: cryptography>=1.3.4 in /usr/local/lib/python3.8/dist-packages (from urllib3[secure]~=1.26->selenium==4.1.0) (38.0.4)\n",
            "Requirement already satisfied: urllib3-secure-extra in /usr/local/lib/python3.8/dist-packages (from urllib3[secure]~=1.26->selenium==4.1.0) (0.1.0)\n",
            "Requirement already satisfied: certifi in /usr/local/lib/python3.8/dist-packages (from urllib3[secure]~=1.26->selenium==4.1.0) (2022.9.24)\n",
            "Requirement already satisfied: pyOpenSSL>=0.14 in /usr/local/lib/python3.8/dist-packages (from urllib3[secure]~=1.26->selenium==4.1.0) (22.1.0)\n",
            "Requirement already satisfied: cffi>=1.12 in /usr/local/lib/python3.8/dist-packages (from cryptography>=1.3.4->urllib3[secure]~=1.26->selenium==4.1.0) (1.15.1)\n",
            "Requirement already satisfied: pycparser in /usr/local/lib/python3.8/dist-packages (from cffi>=1.12->cryptography>=1.3.4->urllib3[secure]~=1.26->selenium==4.1.0) (2.21)\n",
            "Requirement already satisfied: h11<1,>=0.9.0 in /usr/local/lib/python3.8/dist-packages (from wsproto>=0.14->trio-websocket~=0.9->selenium==4.1.0) (0.14.0)\n"
          ]
        }
      ],
      "source": [
        "!pip install selenium==4.1.0"
      ]
    },
    {
      "cell_type": "markdown",
      "source": [
        "### chromium-chromedriverのインストール"
      ],
      "metadata": {
        "id": "b0GLNsxL3bOC"
      }
    },
    {
      "cell_type": "code",
      "source": [
        "!apt install chromium-chromedriver"
      ],
      "metadata": {
        "colab": {
          "base_uri": "https://localhost:8080/"
        },
        "id": "sULB3GQJ3Efm",
        "outputId": "3dfefb21-eeda-4fa6-fbfc-19b0adf8de00"
      },
      "execution_count": 2,
      "outputs": [
        {
          "output_type": "stream",
          "name": "stdout",
          "text": [
            "Reading package lists... Done\n",
            "Building dependency tree       \n",
            "Reading state information... Done\n",
            "chromium-chromedriver is already the newest version (108.0.5359.71-0ubuntu0.18.04.5).\n",
            "The following package was automatically installed and is no longer required:\n",
            "  libnvidia-common-460\n",
            "Use 'apt autoremove' to remove it.\n",
            "0 upgraded, 0 newly installed, 0 to remove and 20 not upgraded.\n"
          ]
        }
      ]
    },
    {
      "cell_type": "markdown",
      "source": [
        "###seleniumを実行して操作する"
      ],
      "metadata": {
        "id": "hTeJqJJt5Deb"
      }
    },
    {
      "cell_type": "markdown",
      "source": [
        "### その他のライブラリのimport"
      ],
      "metadata": {
        "id": "nB_IOSQK45qU"
      }
    },
    {
      "cell_type": "code",
      "source": [
        "import requests\n",
        "from selenium import webdriver\n",
        "from selenium.webdriver.chrome.options import Options\n",
        "import os\n",
        "import time\n",
        "import datetime\n",
        "# エラー処理用\n",
        "from selenium.common.exceptions import NoSuchElementException\n",
        "from selenium.common.exceptions import ElementClickInterceptedException"
      ],
      "metadata": {
        "id": "WbCIJuWP4DTh",
        "colab": {
          "base_uri": "https://localhost:8080/"
        },
        "outputId": "c807e85a-ca43-4997-ad7c-ef9f16733500"
      },
      "execution_count": 3,
      "outputs": [
        {
          "output_type": "stream",
          "name": "stderr",
          "text": [
            "/usr/local/lib/python3.8/dist-packages/requests/__init__.py:89: RequestsDependencyWarning: urllib3 (1.26.13) or chardet (3.0.4) doesn't match a supported version!\n",
            "  warnings.warn(\"urllib3 ({}) or chardet ({}) doesn't match a supported \"\n"
          ]
        }
      ]
    },
    {
      "cell_type": "markdown",
      "source": [
        "### ログ用に時刻を取得"
      ],
      "metadata": {
        "id": "684IDybZ7HTP"
      }
    },
    {
      "cell_type": "code",
      "source": [
        "tm_start = time.time( ) # 処理時間計測用\n",
        "dt_now = datetime.datetime.now( ) # 現在日時\n",
        "dt_date_str = dt_now.strftime( '%Y/%m/%d %H:%M' ) # 書式指定して変換\n",
        "print( dt_date_str )"
      ],
      "metadata": {
        "colab": {
          "base_uri": "https://localhost:8080/"
        },
        "id": "ZK9f5X3i6X6h",
        "outputId": "adfca95c-eb25-4216-9514-6e250fe2d84a"
      },
      "execution_count": 4,
      "outputs": [
        {
          "output_type": "stream",
          "name": "stdout",
          "text": [
            "2022/12/12 03:06\n"
          ]
        }
      ]
    },
    {
      "cell_type": "markdown",
      "source": [
        "### 検索に関する設定値を定義する"
      ],
      "metadata": {
        "id": "kuqLZ2J_9YAA"
      }
    },
    {
      "cell_type": "code",
      "source": [
        "QUERY = '犬 フリー' # 検索したいキーワード\n",
        "LIMIT_DL_NUM = 100 # ダウンロード数の上限\n",
        "SAVE_DIR = 'img/dog_' # 出力フォルダ（自動生成させる）\n",
        "FILE_NAME = 'dog_' # ファイル名（後ろに連番と拡張子をつけていく）\n",
        "TIMEOUT = 60 # 検索のタイムアウト（秒）\n",
        "ACCESS_WAIT = 1 # アクセスする間隔(秒)←超重要\n",
        "RETRY_NUM = 3 # クリックやrequestのリトライ回数\n",
        "DRIVER_PATH = '/usr/bin/chromedriver' # chromedriver.exeへのパス"
      ],
      "metadata": {
        "id": "heJ8k6fw8WqL"
      },
      "execution_count": 5,
      "outputs": []
    },
    {
      "cell_type": "markdown",
      "source": [
        "## Chromeをヘッドレスモードで起動する\n",
        "ヘッドレスモード = ブラウザを画面に開かないで実行するモード"
      ],
      "metadata": {
        "id": "ne-XIsh8AS8z"
      }
    },
    {
      "cell_type": "code",
      "source": [
        "# optionの指定を準備\n",
        "options = Options( )\n",
        "options.add_argument( '--headless' )\n",
        "options.add_argument(  '--no-sandbox'  )\n",
        "options.add_argument(  '--disable-dev-shm-usage'  )\n",
        "options.add_argument(  'start-fullscreen'  )\n",
        "options.add_argument(  '--disable-plugins'  )\n",
        "options.add_argument(  '--disable-extensions'  )\n",
        "# 起動する\n",
        "driver = webdriver.Chrome( DRIVER_PATH, options=options )\n",
        "driver.implicitly_wait( TIMEOUT ) # タイムアウトを設定\n",
        "# ログに処理時間を出力\n",
        "tm_driver = time.time(  )\n",
        "print( 'WebDriver起動完了', f'{tm_driver - tm_start:.1f}s' )"
      ],
      "metadata": {
        "colab": {
          "base_uri": "https://localhost:8080/"
        },
        "id": "eM8GzP-1_d5Z",
        "outputId": "5c6c21ff-2996-4c10-9ad7-cff5249dbfc5"
      },
      "execution_count": 6,
      "outputs": [
        {
          "output_type": "stream",
          "name": "stderr",
          "text": [
            "<ipython-input-6-42bd84c0394a>:10: DeprecationWarning: executable_path has been deprecated, please pass in a Service object\n",
            "  driver = webdriver.Chrome( DRIVER_PATH, options=options )\n"
          ]
        },
        {
          "output_type": "stream",
          "name": "stdout",
          "text": [
            "WebDriver起動完了 1.2s\n"
          ]
        }
      ]
    },
    {
      "cell_type": "markdown",
      "source": [
        "## Googleの画像検索へのアクセス"
      ],
      "metadata": {
        "id": "NznCcAF9G69U"
      }
    },
    {
      "cell_type": "code",
      "source": [
        "# QUERY条件付きでURLを定義する\n",
        "url = f'https://www.google.com/search?q={QUERY}&tbm=isch'\n",
        "# 組み立てたURLでアクセスして検索\n",
        "driver.get( url)\n",
        "# 時刻のログを取得\n",
        "tm_geturl = time.time( )\n",
        "print( 'Google画像検索ページ取得', f'{tm_geturl - tm_driver:.1f}s' )\n"
      ],
      "metadata": {
        "colab": {
          "base_uri": "https://localhost:8080/"
        },
        "id": "BMWfwKLgEDva",
        "outputId": "a3af670b-1096-4ed6-e082-0477b75f7177"
      },
      "execution_count": 7,
      "outputs": [
        {
          "output_type": "stream",
          "name": "stdout",
          "text": [
            "Google画像検索ページ取得 2.4s\n"
          ]
        }
      ]
    },
    {
      "cell_type": "markdown",
      "source": [
        "#結果の要素を取得していく"
      ],
      "metadata": {
        "id": "HoPIqL6nPgsY"
      }
    },
    {
      "cell_type": "code",
      "source": [
        "# ページのサムネイル画像の要素群を取得\n",
        "# (islmpクラスが指定されたimg=サムネイルをすべて拾う)\n",
        "tmb_elems = driver.find_elements_by_css_selector('#islmp img')\n",
        "# サムネイルのリストから各サムネイルのalt属性を取得していく\n",
        "tmb_alts = [ tmb.get_attribute('alt') for tmb in tmb_elems ]\n",
        "# alt属性が空（小さいサムネイル）のものを差し引いて合計を算出\n",
        "count = len(tmb_alts) - tmb_alts.count('')\n",
        "print(count)"
      ],
      "metadata": {
        "colab": {
          "base_uri": "https://localhost:8080/"
        },
        "id": "HNF1G1UPOE5h",
        "outputId": "cf35fc9d-dc2e-41e5-8c23-a958c6133dde"
      },
      "execution_count": 8,
      "outputs": [
        {
          "output_type": "stream",
          "name": "stderr",
          "text": [
            "<ipython-input-8-478ad0829502>:3: DeprecationWarning: find_elements_by_* commands are deprecated. Please use find_elements() instead\n",
            "  tmb_elems = driver.find_elements_by_css_selector('#islmp img')\n"
          ]
        },
        {
          "output_type": "stream",
          "name": "stdout",
          "text": [
            "48\n"
          ]
        }
      ]
    },
    {
      "cell_type": "markdown",
      "source": [
        "## 下にスクロールさせてさらに険悪結果を表示させてまたカウント"
      ],
      "metadata": {
        "id": "lB9Un2uLTHHz"
      }
    },
    {
      "cell_type": "code",
      "source": [
        "# 定義したLIMIT_DL_NUM（ダウンロード数の上限）になるまでスクロールを繰り返す\n",
        "while count < LIMIT_DL_NUM:\n",
        "  # ページの一番下へスクロールして新しいサムネイル画像を表示させる\n",
        "  driver.execute_script( 'window.scrollTo(0, document.body.scrollHeight);' )\n",
        "  time.sleep( 1 ) # スリープを繰り返す間隔(秒)を入れる ←重要\n",
        "  # (islmpクラスが指定されたimg=サムネイルをすべて拾う)\n",
        "  tmb_elems = driver.find_elements_by_css_selector('#islmp img')\n",
        "  # サムネイルのリストから各サムネイルのalt属性を取得していく\n",
        "  tmb_alts = [ tmb.get_attribute('alt') for tmb in tmb_elems ]\n",
        "  # alt属性が空（小さいサムネイル）のものを差し引いて合計を算出\n",
        "  count = len(tmb_alts) - tmb_alts.count('')\n",
        "  print(count)\n",
        "# ループ終わり"
      ],
      "metadata": {
        "colab": {
          "base_uri": "https://localhost:8080/"
        },
        "id": "W8LrPl_vSadY",
        "outputId": "c29d556a-001f-407c-eafb-2dbc151b90c5"
      },
      "execution_count": 9,
      "outputs": [
        {
          "output_type": "stream",
          "name": "stderr",
          "text": [
            "<ipython-input-9-efe427a5e67b>:7: DeprecationWarning: find_elements_by_* commands are deprecated. Please use find_elements() instead\n",
            "  tmb_elems = driver.find_elements_by_css_selector('#islmp img')\n"
          ]
        },
        {
          "output_type": "stream",
          "name": "stdout",
          "text": [
            "100\n"
          ]
        }
      ]
    },
    {
      "cell_type": "markdown",
      "source": [
        "## サムネイル画像をクリックすると右側に開かれる領域をオブジェクトに取得"
      ],
      "metadata": {
        "id": "-SxSGYKDZnMl"
      }
    },
    {
      "cell_type": "code",
      "source": [
        "imgframe_elem = driver.find_element_by_id( ('islsp') )"
      ],
      "metadata": {
        "colab": {
          "base_uri": "https://localhost:8080/"
        },
        "id": "eRpdPTqWZwj2",
        "outputId": "c2a49b59-80a1-4d35-c0e8-1884605fef14"
      },
      "execution_count": 10,
      "outputs": [
        {
          "output_type": "stream",
          "name": "stderr",
          "text": [
            "<ipython-input-10-713e481369ea>:1: DeprecationWarning: find_element_by_* commands are deprecated. Please use find_element() instead\n",
            "  imgframe_elem = driver.find_element_by_id( ('islsp') )\n"
          ]
        }
      ]
    },
    {
      "cell_type": "markdown",
      "source": [
        "### 画像へURLアクセスして保存する準備をする"
      ],
      "metadata": {
        "id": "0fMOo3q6aFBH"
      }
    },
    {
      "cell_type": "code",
      "source": [
        "# 画像の保存フォルダを作成\n",
        "os.makedirs( SAVE_DIR, exist_ok=True )\n",
        "# HTTPリクエスト用のヘッダーを作る\n",
        "HTTP_HEADERS = {'User-Aget':driver.execute_script('return navigator.userAgent;')}\n",
        "print( HTTP_HEADERS )\n",
        "# ダウンロードしてきたい対象のファイル拡張子(extensios)\n",
        "IMG_EXTS = ( '.jpg', '.jpeg', '.png', '.gif' )"
      ],
      "metadata": {
        "colab": {
          "base_uri": "https://localhost:8080/"
        },
        "id": "epQjBYPxaDgF",
        "outputId": "3cc2125f-9b0b-4575-8454-0e0777276f15"
      },
      "execution_count": 11,
      "outputs": [
        {
          "output_type": "stream",
          "name": "stdout",
          "text": [
            "{'User-Aget': 'Mozilla/5.0 (X11; Linux x86_64) AppleWebKit/537.36 (KHTML, like Gecko) HeadlessChrome/108.0.5359.71 Safari/537.36'}\n"
          ]
        }
      ]
    },
    {
      "cell_type": "markdown",
      "source": [
        "## ダウンロード中に利用する関数を定義する\n",
        "### 画像の拡張子を取得する関数"
      ],
      "metadata": {
        "id": "XOCOYGMIcTYZ"
      }
    },
    {
      "cell_type": "code",
      "source": [
        "# 拡張子を取得する関数\n",
        "def get_extension( url ):\n",
        "  url_lower = url.lower()\n",
        "  for img_ext in IMG_EXTS: # 拡張子のリストから１つずつ比較\n",
        "    if img_ext in url_lower:\n",
        "      extension = '.jpg' if img_ext == '.jpeg' else img_ext\n",
        "      break\n",
        "    # if終わり\n",
        "    else:\n",
        "        extension = ''\n",
        "  # for終わり\n",
        "  return extension\n",
        "# 関数終わり"
      ],
      "metadata": {
        "id": "TTSNU_1VaN2v"
      },
      "execution_count": 12,
      "outputs": []
    },
    {
      "cell_type": "markdown",
      "source": [
        "### urlで指定した画像へアクセスし、フォルダ内のファイルとして書き込む"
      ],
      "metadata": {
        "id": "TiRy-m8_N_yp"
      }
    },
    {
      "cell_type": "code",
      "source": [
        "def download_image(  url, path, loop ):\n",
        "  result = False  # 戻り値の変数\n",
        "  for i in range(loop):\n",
        "    try:\n",
        "      r = requests.get( url, headers=HTTP_HEADERS, stream=True, timeout=10 )\n",
        "      r.raise_for_status( )\n",
        "      with open ( path, 'wb' ) as f: # バイナリ書き込みモードで開く\n",
        "        f.write( r.content )\n",
        "\n",
        "    except requests.exceptions.SSLError:\n",
        "      print('****** SSL エラー')\n",
        "      break # リトライしない  \n",
        "    except requests.exceptions.RequestException as e:\n",
        "      print( f'***** requests エラー( {e} ): {i + 1}/{RETRY_NUM}' )\n",
        "      time.sleep(1)\n",
        "    else:\n",
        "      result = True\n",
        "      break # try成功\n",
        "  # ループ終わり  \n",
        "# 関数終わり"
      ],
      "metadata": {
        "id": "5Gen0SMYd2Yk"
      },
      "execution_count": 13,
      "outputs": []
    },
    {
      "cell_type": "code",
      "source": [
        "### サムネイルを取得し、画像ダウンロードの準備ができたタイミング\n",
        "tm_thumbnails = time.time( )\n",
        "print( 'サムネイル画像取得とＤＬ準備完了', f'{tm_thumbnails - tm_geturl:.1f}s' )"
      ],
      "metadata": {
        "colab": {
          "base_uri": "https://localhost:8080/"
        },
        "id": "jBFNcnWzT08d",
        "outputId": "8dc441bf-24f3-4e29-db5f-4c8fac9a82cf"
      },
      "execution_count": 14,
      "outputs": [
        {
          "output_type": "stream",
          "name": "stdout",
          "text": [
            "サムネイル画像取得とＤＬ準備完了 7.0s\n"
          ]
        }
      ]
    },
    {
      "cell_type": "markdown",
      "source": [
        "### ダウンロード処理"
      ],
      "metadata": {
        "id": "-Ym57YFSWBHE"
      }
    },
    {
      "cell_type": "code",
      "source": [
        "EXCLUSION_URL = 'https//lh3.googleusercontent.com/' # 除外対象URL\n",
        "count = 0\n",
        "url_list = [ ]\n",
        "\n",
        "# サムネイルをクリック、画像リンクを取得、画像をDL＆保存を繰り返す\n",
        "# zipで組み合わせの順番を固定化\n",
        "for tmb_elem, tmb_alt in zip(tmb_elems, tmb_alts): \n",
        "  if tmb_alt == '': # ALT属性が空=小さいサムネイルとみなしてスキップ\n",
        "    continue  \n",
        "  print(  f'{count}:{tmb_alt}'  ) # カウンタとALT属性を表示\n",
        "  # リトライ回数分だけ試行\n",
        "  for i in range(RETRY_NUM):\n",
        "    # サムネイルをクリック\n",
        "    try:\n",
        "      tmb_elem.click( )\n",
        "    except ElementClickInterceptedException:\n",
        "      print(f'***** click エラー: {i+1}/{RETRY_NUM}')\n",
        "      # フォーカスをあわせる\n",
        "      driver.execute_script('arguments[0].scrollIntoView(true);', tmb_elem)\n",
        "      time.sleep(1)\n",
        "    else:\n",
        "      break # try成功（クリック成功）\n",
        "  # forの終わり\n",
        "  else: \n",
        "    print('***** キャンセル')\n",
        "    continue # リトライ失敗、次のアイコンにスキップ\n",
        "  # クリック成功したら、処理を続ける（画像のオブジェクトを取得する処理）\n",
        "  time.sleep(ACCESS_WAIT)\n",
        "  # alt属性の加工\n",
        "  alt = tmb_alt.replace(\"'\",\"\\\\\")\n",
        "  try:\n",
        "    # 左側のalt属性を基に左側の大きな画像をalt属性を指定して取得\n",
        "    img_elem = imgframe_elem.find_element_by_css_selector(f'img[alt=\\'{alt}\\']')\n",
        "  except NoSuchElementException:  # 右側に対応する要素が見つからない\n",
        "    print('***** img要素検索エラー')\n",
        "    print('***** キャンセル')\n",
        "    continue # 次のサムネイルへスキップ\n",
        "  # 右の大きな画像オブジェクトが取得できたら、その画像リンクを取得する\n",
        "\n",
        "  tmb_url = tmb_elem.get_attribute('src')  # サムネイルsrc属性からリンクurlを取得\n",
        "  # リトライしながらURLをチェック\n",
        "  for i in range(RETRY_NUM):\n",
        "    # 大きい画像のURL\n",
        "    url = img_elem.get_attribute('src')\n",
        "    if EXCLUSION_URL in url:\n",
        "      print('除外対象url')\n",
        "      url=''\n",
        "      break # ループ中断\n",
        "    elif url == tmb_url: # サムネイルのurlと一緒なら、リトライを続ける\n",
        "      print(f'***** urlチェック:{i+1}/{RETRY_NUM}')\n",
        "    else:\n",
        "      break # ループ中断（除外対象でもサムネイルでもない、OKなurl）\n",
        "    # RETRYループ終わり\n",
        "  # urlチェックの結果、OKなリンクでなければ次のサムネイルへスキップ\n",
        "  if url == '':\n",
        "    print('***** キャンセル') # 大きなループをcontinue\n",
        "    continue\n",
        "  # url先の拡張子が指定の画像拡張子でなければ次のサムネイルへスキップ\n",
        "  ext = get_extension( url ) # 自作の関数で拡張子を取得\n",
        "  if ext == '': # 指定の画像拡張子でない場合\n",
        "    print(f'***** urlに拡張子が含まれていないのでキャンセル')\n",
        "    print(f'{url}')\n",
        "    continue\n",
        "  \n",
        "  # ダウンロード周り:保存するファイルパスを指定する\n",
        "  filename = f'{FILE_NAME}{count}{ext}'\n",
        "  path = SAVE_DIR + '/' + filename\n",
        "  # ダウンロードを実行（自作関数を呼び出す）\n",
        "  result = download_image( url, path, RETRY_NUM )\n",
        "  if result == False:\n",
        "    print('***** キャンセル')\n",
        "    continue # 次のサムネイルへスキップ\n",
        "  # ダウンロードしたurlをリストに追加\n",
        "  url_list.append(f'{filename}:{url}')\n",
        "\n",
        "  # 最後に、ダウンロード数カウンタの更新と終了判定\n",
        "  count += 1\n",
        "  if count >= LIMIT_DL_NUM:\n",
        "    break # ダウンロードのループを終了\n",
        "# ループの終了\n",
        "# 所領時間の表示\n",
        "tm_end = time.time( ) # 現在時刻\n",
        "print('ダウンロード', f'{tm_end - tm_thumbnails:.1f}s')\n",
        "print('-------------------------')"
      ],
      "metadata": {
        "id": "Zqe_YEiZVkt4",
        "colab": {
          "base_uri": "https://localhost:8080/"
        },
        "outputId": "d6c2b7a6-6a68-484f-9415-d204631bd4be"
      },
      "execution_count": 15,
      "outputs": [
        {
          "output_type": "stream",
          "name": "stdout",
          "text": [
            "0:へっくしょん（犬）の写真素材 - ぱくたそ\n"
          ]
        },
        {
          "output_type": "stream",
          "name": "stderr",
          "text": [
            "/usr/local/lib/python3.8/dist-packages/selenium/webdriver/remote/webelement.py:484: UserWarning: find_element_by_* commands are deprecated. Please use find_element() instead\n",
            "  warnings.warn(\"find_element_by_* commands are deprecated. Please use find_element() instead\")\n"
          ]
        },
        {
          "output_type": "stream",
          "name": "stdout",
          "text": [
            "***** urlチェック:1/3\n",
            "***** urlチェック:2/3\n",
            "***** urlチェック:3/3\n",
            "***** urlに拡張子が含まれていないのでキャンセル\n",
            "data:image/jpeg;base64,/9j/4AAQSkZJRgABAQAAAQABAAD/2wCEAAkGBxMTEhUSEhAVEBUVFhUQEBUQFRUQDxAPFRUWFhUVFRUYHSggGBolHRUVITEhJSkrLi4uFx8zODMtNygtLisBCgoKDg0OFw8PGi0dHR0rLSstLSstLS0tKy0tKy0tLS0tLS0tLS0tLS0rLS0tLS0tKy0tLS0tLS0tKy0tLS0tN//AABEIALcBEwMBIgACEQEDEQH/xAAcAAACAwEBAQEAAAAAAAAAAAADBAACBQEGBwj/xAA3EAACAQIEAwYFAgUFAQAAAAAAAQIDEQQFITESQVEGEyJhcYGRobHR8DLBFBUjQuEHM1Jighb/xAAYAQADAQEAAAAAAAAAAAAAAAAAAQIDBP/EACIRAQEAAgICAgIDAAAAAAAAAAABAhEDITFBEyISFAQyUf/aAAwDAQACEQMRAD8ADTiFjBHYRCqIyUUDtkWciqkASxWTOzkDchh2525EXiARRO8ASLLiIHgOqAS5ZMDB7sjphuIjYAnUpgu7HZoDKIwFCAThOpHbgFOA44l2zjABMq0dkcALWOxORRxoAIytyhy4gNE6wHEduBiNlXJA5sE5AB3JFbgkyyEYsWdk0DRSchAXQgvxnQB+JZsCpF0ykqyOJlpFEAdaOqBZIsgCKBeMDsUESAOJFrHCzi7AFGwbqEmgPA7gDcWi6QOlSb5DcMNK2wrZD1b4AcSriNLDvoSVC3IjLlxxaY8WWRZUhijgLl4Uh7BSa5XtuzH58rem84MZC1PJb3v7DEMiVuY9/M4x/tchPF9oJcopIfzSean4bfEHjkdJfqKyy3DJ9DLlnt9LeovUzFPdEX+TfSp/Hntqyyqi9pAK2RR5TM+OK5qQaGPvuL9q+z/WnopjMqnHbxehmVU1urHp6WLbDSoUqq4Zb7I1w55l5ZZ8Fnh45SDRZ6HFdlZLWDuvmZNbCSg7SVjdgTkClFjjiV4AMuoslmMOJLC2AUitSDGYxLOKAyHAyDnAQQ0NKBEEminCWhWTJE7wksAScrFHUOVCgGahULd4LRCJCAiqanp8rzCnJKDjFep5VxJdrYVmzl09zUw1GXKNykMtg3pFHjI4qcbtTd2OYXtLONlL3fUi4rmT1ksLBKySFq9O2m1xDBY6VSfEv08hrEybOfPt0YBXSB1tbcvqDm2nr7j7jFJSe/LqPGbgyy7IYfDyctfCt9f2NKcklaKQliKqfNr93YSrN30b5W6ew9yJst9iYyevRGdio3vbr72GO7668lfqI4qM4tvl5fmxnlIvG0lXoNP7FNnqPxj109dCk+7vZpyfRGVaxMuwzqbOyXPdtml/LmlrLyD4GhToeJt26PdM5is5p31fO3sFwonJCjouL3v8RnD4ea8VrLe8tEZ+I7S0oO0VffVLd+pl532ilUilCfd25LmjTj4cvaM+fH093lmfwvwTafK9zQzbARqRvZeR8cwmKfHHW+q+J9uw/igk+i+h14Syarkyst3HgMdguBidj12eZc3qjy9XDSW5HyXG6rT8JlNwvIqmVqA7mrI1A6LRqBosCWsQ4QRiOZLgVIkpmjMSUwUpgqlQH3gAaTZW5zi0B8QjNQkMwiI0WPwkASUSjRdsGwAVVHMNheNq6CmtklGLnbr8V5k5XUVjN1rZfhFTikkGqJ/c1VhElZAKmH1+BM41ZcrOjSWsnytb1/PqZWYYy70vz21dtGelqYS8bctrefUSxORppvr0/wAjzwt8Jwzk8vLuUr3u9mlbW1vu/kHpVktHq/i0MV8G6btL5K/LbzFJtJ3Xh9vic1mnTOzlN2suH0vyKYiquenyAd+lzu/LX0ZSbfR3+C92TVSA5lFyg+HRrVezPIfzWSl/xkm156HqK1V9V+e55nOsu458cLqT36Nhj57GXhqSz+pJWum31WrVzLqVZXu4/ZnaWUVrX4VfrqZ2aZXXurzkl/1vH6HTjHNlS+YZlKD2FcNVnUfMPUyaXFq5Pq3qkbuV5PbV6o0QY7NYBzrU4pXvJeiW7Z9go1tTyfZnAKnHvWtZK1PyjzZt06uplll9mkx+raaUkYWbZYndrc1sPXWxfERui8sZlEY5XGvnWNw9jNqHr83wPNHmcRQsRx3XVaZ99wg6gzRqaAJUy9M0ZmeM6AuQAtxHHIEpF4ls1ZopGAdIvGmACjEjpjUKQRUgMvSgMRJwEAO3LxiViHgIORpIPSg41E1rt6+zOGplVPie9na653ZOU3pWN1t6XBQfCru/qdqS1FMtlVnrKnKmrtWmrN25ryGcRBrU0ZiTnaL9H9ATxaMHN8/jCMop+LZK9hHKcwU4yk6ynLnr4b9I3sK09GO0WLVr315ckeR/j7u29t7/AH5sZ7Q4u3ieq9dhDARjU8SWnldHJn3duzDqaaNGs5b/AL39fINUxGml/ho+WwvOnw7aryevwW6Eq+KvyZGl7Vr1ry0VuvIcoU4y8/TkZFeTT6e+rfuaWDq2Xn5sWha9RllFONmimaZUpJ6eluoLLcTyXubN7r7nXx9xx8k1XmaWEjazir7O4ssufFwqVk3taySN3HYa97c/qZsYyWnFf13NLNRGPdb9KouFRW0Uor2K1KgjRqBKkjms6bzLtq4Kt0RqqWmp53By1NunPQ04/DPO9lMxtY8rj6PQ9RjXcwMVHczz6ya4d4sCoVSGK0NSvAbIDOBOA6IEqQzFEo0RhQLZBxQWCIEgAEpxLTLRYCtMZrJluAWjPUcpzEHFTCxgS54DtT2sqxryo026cYPhbWk5yte9+S6JDD6ZgssqVHorLfil4Vb9/Y9VlmFoUdONSnzbf0XI/OyzOp+uU5Pm25O59K7E9o4Vd1BtJJuX+5xebfLYuYIuT6n3y5agKqTBYfFQceK/2LSxENrvronb47C0NvK9o+ymHr+KdO/NuOjT8vIwof6d4a94TqRW/CpyUfbXQ+kwintZoSxOAf8Aa+EWj3XncB2Sw1HWNJOXOU7zl8XdmtDCQtbhi16JosqNRb2fmvsHpX56/QWoey88mpSX6Vby0M6t2fpa2R6BVrcgc9fy5NwlOZ2PJ5jkEWua6W1ueexGV93Ln1PodXyMTNKF/O+9vIjLinpc5b7YWFvZSvttyZs4TE3Vn9xKlh7Ky1S29/xh4La+hOEsqsrMoaq8V9NmD7nXVajlJXQutzp9OZRR9gFWr0aY3OaE6sb9PoZ5Y7XjkdwEjVVZWMnCPQb7zyLmOoi5bqV666GTi5L0NCtVRi46tyObldPCUrbg3UBcVyrZeN3BlNVfvCFLHCiGigljsIhOEtkE0WgE4CygARHJUwiSLxAFHSsGpILJoopoAufP/wDUnLIxlDERTTqPgq9HKMVwPydk17I9+qiFs1wUK9KVKaupfFNbNdGgN8XjN24YybT5Pc9h2Iw9pOpK/pFq7b/ulr8kZuK7N1KDblCTinbiVnfpZI1snqxsrJKSd05p1JR0V2o8tPqXinLuPqeXZwpxjwpcFtJO26fT82NGOIUrJ1OFq12vAtfJ7nzvD5muGSc3PxWipOKhpr4bej3NaGb05Lx1VFbWTtr0unve2xp0z1XscPVlGV4pSg+cbP3a0NenXv8A5/NPc8plONpNeBreys9W9/f3NCGZweqktPDeWni6P4kWHK2alWwlVxBl4zMk3biUXzVr+/oY9bHtPfTe8XePmvywriqV6WWLS0Tvy3/OhSjjdbPX9zHwUnLZ3+49KhZXvtquq8iTP1K2l17XXyfxM3HSXPnqv3KVMXpa+2z5bczKx+J35AHYtqV72Wo3F8Wj2/fmYTxdtn568mFoZk09dE/kydKlejpO0evL8QpGpzvb1EMRmjtZa3+QOGMvHU0jOtCvNNdH+4tCTb3EqmJdrJ3+w5goW1YJrUpLTYs5oFSq8g1kwpQGUkzIzGxq14pHncbNcbOfljq4aXpvUtIFxeIZ4SeNpn/qikcLcBDRmNGQWMgUUXjbqaMRUEBprqR1UBpJnYsG5ovGogC0gM2Hc0CckAVjMJGYJvyOxmBkO1GKlTw05RjxPRPnaLerPnsMwpy/XCf917VpXjdP9N//ADv0Z9UnaSakk00009mnueEzDs1DjahPTo/1b/YRxg4nMpONNR4YuGt1q52/5vncDXxU5z4l/T4mmowvwwemyfma/wD87q0+Jc1aPQ0cB2ditZQctL6pqz0AyOAli6X+3US5rw877r4Ne4zVo42ouGeIbSenX1u31SNunhnFeGnZfCz8iU6zT1Sf3DY0VyjKqsZqc6spyto5Pbr9vZG33b5ztz9xF46f5qDqYmb5B+ULTXoZk4bT66rcYeatt/1L81f5r46+552N+bfuWUH12+gvyGmy8zltdNfsCddyFIQGIzSsvjyDZ6X7q+71K1GktdQFSsls2xSrXcthkfjXuW4r+QpRpbXZoYejdlRFNYOjrdmvCkDoUVw66BqE7aMpmZp0kc4WudwtM5USsAJ4i99Tz+PjaR6R6mBnWjOflnbq4r9dMub8SGlUM1y8Q2ncjDzWmfiDd8QFYhrplsRTOqodjTOOmaMhO8B8ZIovGCAOxZbiOqxSTQjXUzqkCjJBOJDC52KJCaFMwxyirLcQUzDHcKstxfA4NvxS9QWBoub4pG5CaSskIy0tC1Nkqz1O05jCzXVAMVl+nFEYnUHcvndNMVmzxrzqh1DU6a/Opo47Dq+iELWI1ppvYnBG23kLVKVrvyDOV0Cqtu/sNK8MXG2wnicVfZafNF3QLLCjKkbtjEYW1Y3DD2O9y36D0m1fD0r6I1aFGyvt1AYXD2SNOmi4zo2Glcd7lMz6CHFUsELTnBJaJlrPmFdVMBOoUlaUTz3aJG83pc87n1S5lyzpvxXt5yi3xD8ZtMBhKd3cbdMxwb5eHO+ITuiGjNeNRnXIHSmpK6d0FjA0ZOQQVIJCkRxABTYOwbgLRggAMYluEricTCCu2Ys+0EXJxQjaWJxfDotwGGwrm7yAYSHG7s3MO0kI3I0+FWReLOuaKqYBZ07kVMvGoddQYDkhvAuwq6gfD1NQEHxcTNqxNKsLSRNi9s2dNgrmlOkLzoknsJTLd9vodVELCjqOUrIFTg2OUqdlYsqewWMbsqVnRKSZo4WlpcFQjpYPGdtxpSVKzudqJexyrV0E6lbkVE0xGdnvoV7wTjU5FnUsXE0WvXMLMnxDdapruK1ncy5WvF0Sw74UHhVM2tU8Vg1Jmcja0/3qIKXIMtvD4LOZw0v8T0+T56p2i9xPNez6knKCswvZbK0n/U0aLRbHqoVCzqFMxrQirL4mZSzKLdm0ikNSTMTOc57p2GcXjEldM8lnsZVNdxVUIZnnMqj0YDK1Jy0V/Mdy7I5T1aPT5flUYctSdK2LlyaiOKozrpkSGlXvmGhK4KdINRirgBYnWwiiiMAEwmHbuWgWitRW6VjNtCWqEasmmOx2Fq8bgAe+KOQKcrFoyuTTEi0FVmL2KxWu4jaNGweDSM+nOyCRr23KjOw86tiTxPuZdfFp8xf+K5FQtNKpircwcazfIXhRb1Y7TikVE1ZJopMupchatOzLQTx07LQy3jGM5hUMyMXcxy7rfGai8Vd3HKLF0mGpJkrNEKHQBrg0Fq1BPbRnSGjFn4ijN6N3FFlbbvchBKaEMPFKz1OfwcCEGQ1NRWiRdTR0gjFjUVtgNSZCAHHVuSFXUhABjv2VniDhAA1GVx/D0jpDLLutsf6mKisIV6liENWLNrsXddohCKuGaOLuHjM6QRuTrWFK2JIQaaXU7hoS1IQYatGrohqE7K5CGmLLJOPmIYupdnCDvgsfLMxaKQgQhh7dHoenTDRgQhRI4kIQA//Z\n",
            "0:犬の写真素材｜写真素材なら「写真AC」無料（フリー）ダウンロードOK\n",
            "1:犬 | フリー素材ドットコム\n",
            "2:怠惰な秋田犬の写真素材 - ぱくたそ\n",
            "3:犬 | フリー素材ドットコム\n",
            "4:犬の写真素材｜写真素材なら「写真AC」無料（フリー）ダウンロードOK\n",
            "5:画像素材なら！無料・フリー写真素材のフリーフォト\n",
            "***** urlチェック:1/3\n",
            "***** urlチェック:2/3\n",
            "***** urlチェック:3/3\n",
            "***** urlに拡張子が含まれていないのでキャンセル\n",
            "data:image/jpeg;base64,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\n",
            "5:フリー写真] 芝生を駆ける二匹の子犬でアハ体験 - GAHAG | 著作権フリー写真・イラスト素材集\n",
            "***** urlチェック:1/3\n",
            "***** urlチェック:2/3\n",
            "***** urlチェック:3/3\n",
            "***** urlに拡張子が含まれていないのでキャンセル\n",
            "data:image/jpeg;base64,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\n",
            "5:フリー写真素材|動物|哺乳類|イヌ科|犬・イヌ|子犬・小犬|柴犬 ... | Dog blog, Shiba inu, Cute animals\n",
            "6:犬の写真素材｜写真素材なら「写真AC」無料（フリー）ダウンロードOK\n",
            "7:犬（戌）」をテーマにした無料写真素材10選（商用利用可） | ACワークスのブログ\n",
            "8:犬・チワワ | 無料の高画質フリー写真素材 | イメージズラボ\n",
            "9:犬のイラスト-無料イラストフリー素材\n",
            "***** urlチェック:1/3\n",
            "***** urlチェック:2/3\n",
            "***** urlチェック:3/3\n",
            "***** urlに拡張子が含まれていないのでキャンセル\n",
            "data:image/png;base64,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\n",
            "9:犬のフリーアイコン｜可愛いフリーアイコン・イラストの無料素材サイト｜フリーペンシル\n",
            "***** urlチェック:1/3\n",
            "***** urlチェック:2/3\n",
            "***** urlチェック:3/3\n",
            "***** urlに拡張子が含まれていないのでキャンセル\n",
            "data:image/jpeg;base64,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\n",
            "9:フリー写真] 耳の垂れた犬 - パブリックドメインQ：著作権フリー画像素材集\n",
            "10:無料で使える 犬 フリー素材 - 使える写真ギャラリーSothei\n",
            "11:23,754+以上の無料犬画像\n",
            "12:犬 のストック写真、ロイヤリティフリーの画像、ベクター、およびビデオ | Adobe Stock\n",
            "13:犬 ハイタッチの写真素材｜写真素材なら「写真AC」無料（フリー）ダウンロードOK\n",
            "14:犬（戌）」をテーマにした無料イラスト素材10選（商用利用可） | ACワークスのブログ\n",
            "15:走る犬 シュナウザーのフリー素材｜無料写真素材集＞dog0173-022＞ダウンロード 高解像度画像 無料写真素材のプロ・フォト\n",
            "16:日本スピッツや白い犬の素材（動画や写真）をお探しの方へ│日本スピッツちぃ。\n",
            "17:フリー写真] 四匹の犬と猫 - パブリックドメインQ：著作権フリー画像素材集\n",
            "18:犬に穀物はダメって本当？ グレインフリー神話が生まれた理由を解説します。 | ペトコト\n",
            "19:犬 | フリー素材ドットコム\n",
            "20:犬にも”バリアフリー”の住環境を シニア犬が過ごしやすい暮らしとは｜いぬのきもちWEB MAGAZINE\n",
            "21:犬からの10のお願い | 泣ける話や感動の実話、号泣するストーリーまとめ - ラクリマ\n",
            "22:100以上の無料柴犬&犬画像 - Pixabay\n",
            "23:最も幸せな犬」をフリー素材で検索したら最高すぎた\n",
            "24:雑種犬 写真素材 [ 226180 ] 無料 - フォトライブラリー photolibrary\n",
            "25:犬（寒くて帰りたいワン…）の写真素材 - ぱくたそ\n",
            "26:犬の無料(フリー)イラスト | かわいい手描きの無料素材「てがきっず」保育園・小学校・介護施設にぴったりのフリー素材イラスト\n",
            "27:犬フリー写真：無料 風景 写真 フリー素材集/yutti photo\n",
            "28:サンプル】アンデスポークヒレ肉・マダラ＆ベジタブル・フルーツ（アイケア・成犬用） - Runfree\n",
            "29:ドッグランで小型犬をフリースペースに入れる3つの危険性 | わんちゃんホンポ\n",
            "30:犬の無料イラスト一覧\n",
            "31:ゆんフリー写真素材集 : No. 16018 笑う犬 [中国 / 松藩]\n",
            "***** requests エラー( 406 Client Error: Not Acceptable for url: http://www.tmyun.com/mid/yun_16018.jpg ): 1/3\n",
            "***** requests エラー( 406 Client Error: Not Acceptable for url: http://www.tmyun.com/mid/yun_16018.jpg ): 2/3\n",
            "***** requests エラー( 406 Client Error: Not Acceptable for url: http://www.tmyun.com/mid/yun_16018.jpg ): 3/3\n",
            "32:フリーペーパー『もふもふ』とは・・・ 犬猫の代弁者になる。動物と家族に寄り添うフリーペーパー継続！（石塚 美穂 (ワントゥワンズ 代表)  2017/10/15 投稿） - クラウドファンディング READYFOR\n",
            "33:犬のバレンタインイラストのフリー素材｜イラストイメージ\n",
            "34:犬のイラスト-無料イラストフリー素材\n",
            "***** urlチェック:1/3\n",
            "***** urlチェック:2/3\n",
            "***** urlチェック:3/3\n",
            "***** urlに拡張子が含まれていないのでキャンセル\n",
            "https://encrypted-tbn0.gstatic.com/images?q=tbn:ANd9GcTGpwA6Zog1FQLeOM4lU9D0ZTK7HNys75o8hw&usqp=CAU\n",
            "34:かわいい犬猫写真のフリー素材（商用利用可能） - オドフラン ～いつもどこかに「なるほど」を～\n",
            "35:ブログで使える犬のフリー画像50枚を集めます 様々なシチュエーションに対応!!可笑しい!可愛い!!犬の画像 | 写真撮影・素材提供 | ココナラ\n",
            "36:ボロという犬の話 | 泣ける話や感動の実話、号泣するストーリーまとめ - ラクリマ\n",
            "37:動物,犬のフリー素材 - Web素材工房 デジタルカラーボックス\n",
            "38:犬の犬種セット かわいい無料イラスト81771 | 素材Good\n",
            "39:フリー写真, フリー写真, CC0 写真, 動物（写真）, 哺乳類, 犬（イヌ）, ラブラドール・レトリーバー, ウインク | Dog  training, Labrador dog, Labrador retriever\n",
            "40:犬のイラスト | フリーイラスト素材集｜ちょうどいいイラスト\n",
            "41:無料の犬のイラストコレクション【商用利用可能・フリー素材】（2022.06.20更新） / イラストセンター\n",
            "42:犬にも”バリアフリー”の住環境を シニア犬が過ごしやすい暮らしとは｜いぬのきもちWEB MAGAZINE\n",
            "43:犬｜無料写真素材ならフリー素材タウン\n",
            "***** urlチェック:1/3\n",
            "***** urlチェック:2/3\n",
            "***** urlチェック:3/3\n",
            "***** urlに拡張子が含まれていないのでキャンセル\n",
            "https://encrypted-tbn0.gstatic.com/images?q=tbn:ANd9GcSAdnje0Dosc0qTquHvT329sNxdXmkiGsZHdg&usqp=CAU\n",
            "43:歯を剥いて怒っている犬 写真素材 [ 3399534 ] - フォトライブラリー photolibrary\n",
            "44:無料写真] 犬のスピッツ - パブリックドメインQ：著作権フリー画像素材集\n",
            "45:犬・小型犬の商用可能フリー素材 - オドフラン ～いつもどこかに「なるほど」を～\n",
            "46:犬のフリーアイコン｜可愛いフリーアイコン・イラストの無料素材サイト｜フリーペンシル\n",
            "47:犬の写真素材｜写真素材なら「写真AC」無料（フリー）ダウンロードOK\n",
            "48:25,475件の「秋田犬」の画像、写真素材、ベクター画像 | Shutterstock\n",
            "49:犬」フリーイラスト | シンプルフリーイラスト\n",
            "50:犬 | フリー素材ドットコム\n",
            "51:人面犬のイラスト | かわいいフリー素材集 いらすとや\n",
            "52:ベトナムのハノイで犬肉を食べてみた｜写真と感想つき│株式会社MORE UP BOOST\n",
            "53:良い犬の話 | 泣ける話や感動の実話、号泣するストーリーまとめ - ラクリマ\n",
            "54:ゆんフリー写真素材集 : No. 3813 老犬の午睡 [日本 / 熊本]\n",
            "***** requests エラー( 406 Client Error: Not Acceptable for url: http://www.tmyun.com/mid/yun_3813.jpg ): 1/3\n",
            "***** requests エラー( 406 Client Error: Not Acceptable for url: http://www.tmyun.com/mid/yun_3813.jpg ): 2/3\n",
            "***** requests エラー( 406 Client Error: Not Acceptable for url: http://www.tmyun.com/mid/yun_3813.jpg ): 3/3\n",
            "55:芝生でくつろぐMIX犬 | 無料壁紙・商用利用可の画像素材ならfotoma（フォトマ）\n",
            "56:23,754+以上の無料犬画像\n",
            "57:秋田犬 写真素材 [ 572783 ] - フォトライブラリー photolibrary\n",
            "58:警戒する小型犬（チワワ）の写真素材 - ぱくたそ\n",
            "59:無料写真素材 ペット画像・子犬画像・フリー素材\n",
            "***** urlチェック:1/3\n",
            "***** urlチェック:2/3\n",
            "***** urlチェック:3/3\n",
            "***** urlに拡張子が含まれていないのでキャンセル\n",
            "https://encrypted-tbn0.gstatic.com/images?q=tbn:ANd9GcS2MI-hxGON0t1weQhZ6HdOfI-Xl3NYW7yR3Q&usqp=CAU\n",
            "59:犬・チワワ04 | 無料の高画質フリー写真素材 | イメージズラボ\n",
            "60:ドッグランで野原を飼い主と散歩する犬[10132105252]の写真素材・イラスト素材｜アマナイメージズ\n",
            "61:かわいいいぬの無料画像リンク集 | みんなの無料イラスト・写真\n",
            "62:犬と人写真素材、ロイヤリティフリー犬と人画像|Depositphotos\n",
            "63:ビーグルの顔（犬） | 無料イラスト＆かわいいフリー素材集 ねこ画伯コハクちゃん\n",
            "64:10000以上の無料子犬&犬画像 - Pixabay\n",
            "65:楽しそうな散歩中の犬 | 写真・画像のフリー素材を無料ダウンロードするなら「エルーパフォトス」\n",
            "66:犬の散歩中に両手が自由になる 英ペットブランドHiro + Wolfの「ハンズフリーリード」 | Webマガジン「AXIS」 |  デザインのWebメディア\n",
            "67:土佐犬（とさいぬ・とさけん）のイラスト・条件付フリー素材集\n",
            "***** urlチェック:1/3\n",
            "***** urlチェック:2/3\n",
            "***** urlチェック:3/3\n",
            "***** urlに拡張子が含まれていないのでキャンセル\n",
            "https://encrypted-tbn0.gstatic.com/images?q=tbn:ANd9GcQa3ZH3v5x1whAH_WUntm2eisRxZSACyjfnbA&usqp=CAU\n",
            "67:フリーランスが犬を飼うなら”保護犬”を引き取るという選択肢！ 私たちだからできる、命の保護活動 | THE LANCER\n",
            "68:フリー画像|動物写真|哺乳類|イヌ科|犬/イヌ|ビーグル犬|フリー素材|画像素材なら！無料・フリー写真素材のフリーフォト\n",
            "***** urlチェック:1/3\n",
            "***** urlチェック:2/3\n",
            "***** urlチェック:3/3\n",
            "***** urlに拡張子が含まれていないのでキャンセル\n",
            "https://encrypted-tbn0.gstatic.com/images?q=tbn:ANd9GcQUJuT0YObplTc6NeHOaKhzJ-5B8vvXABfLlg&usqp=CAU\n",
            "68:商用可・無料の犬 の フリー イラスト｜テラ合同会社\n",
            "***** urlチェック:1/3\n",
            "***** urlチェック:2/3\n",
            "***** urlチェック:3/3\n",
            "***** urlに拡張子が含まれていないのでキャンセル\n",
            "https://encrypted-tbn0.gstatic.com/images?q=tbn:ANd9GcQBER3zavaVMZGr64ypj90pyN0m9UKxAKXQKA&usqp=CAU\n",
            "68:威嚇する茶色の犬のフリー素材・無料の写真| ピクト缶\n",
            "69:犬20種類×5】著作権フリーの高解像度イラスト素材(画像100枚) - Game Material Store - BOOTH\n",
            "70:公園の白い犬 スピッツのフリー写真素材 無料画像素材のプロ・フォト dog0127-023\n",
            "71:桜に囲まれてキョロキョロしている可愛い犬のフリー画像｜おしゃれなフリー写真素材：GIRLY DROP\n",
            "72:本当は怖い犬の牙 | 写真・画像のフリー素材を無料ダウンロードするなら「エルーパフォトス」\n",
            "***** urlチェック:1/3\n",
            "***** urlチェック:2/3\n",
            "***** urlチェック:3/3\n",
            "***** urlに拡張子が含まれていないのでキャンセル\n",
            "https://encrypted-tbn0.gstatic.com/images?q=tbn:ANd9GcRLiCQaGodo_uSVogkoZbB5TvpDw4g2P2xxHg&usqp=CAU\n",
            "72:犬のフリーアイコン｜可愛いフリーアイコン・イラストの無料素材サイト｜フリーペンシル\n",
            "73:里親募集中の保護犬がモデル フリーデザイン年賀状サイト「＃PUPPY NEW YEAR」オープン #ブレーン | AdverTimes.（アドタイ）  by 宣伝会議\n",
            "74:犬を室内フリーで飼いたい！ フリーで留守番させたい！フリー飼いができるようになるための手順とは？ - YouTube\n",
            "75:Twitterの犬のフリーヘッダー画像をそのまま使えるサイズで配信中 | Time-fun.fun\n",
            "76:日本犬」の画像 - 7,649 件の Stock 写真、ベクターおよびビデオ | Adobe Stock\n",
            "77:犬のフリー素材イラスト・画像集めてみた！\n",
            "78:無料イラスト かわいいフリー素材集: 秋田犬のイラスト\n",
            "79:まとめ】可愛い犬の無料イラスト素材集｜イラストイメージ\n",
            "80:犬｜無料写真素材ならフリー素材タウン\n",
            "***** urlチェック:1/3\n",
            "***** urlチェック:2/3\n",
            "***** urlチェック:3/3\n",
            "***** urlに拡張子が含まれていないのでキャンセル\n",
            "https://encrypted-tbn0.gstatic.com/images?q=tbn:ANd9GcTH2Xmt8f0jmBbm0NUnpGEcZYbNhuGIU63yCg&usqp=CAU\n",
            "80:犬の写真素材｜写真素材なら「写真AC」無料（フリー）ダウンロードOK\n",
            "81:犬のフリー素材・無料の写真| ピクト缶\n",
            "82:FigaroHouseオリジナル 犬イラストWebフリー素材配布コーナー : FigaroHouse | チワワ イラスト, 犬のスケッチ, 動物を描く\n",
            "83:犬にも”バリアフリー”の住環境を シニア犬が過ごしやすい暮らしとは｜いぬのきもちWEB MAGAZINE\n",
            "84:犬イラスト／無料イラストなら「イラストAC」\n",
            "85:10000以上の無料子犬&犬画像 - Pixabay\n",
            "86:ヤフオク! - 1円即決 画像 相互評価 小型犬 犬 フリー素材 デ...\n",
            "ダウンロード 185.4s\n",
            "-------------------------\n"
          ]
        }
      ]
    },
    {
      "cell_type": "markdown",
      "source": [
        "## Colabo上へダウンロードしたファイルをipで固めてローカルにダウンロードする"
      ],
      "metadata": {
        "id": "Ypu2X7EFg4-u"
      }
    },
    {
      "cell_type": "code",
      "source": [
        "# ここまでのトータル所要時間を出力する\n",
        "total = tm_end - tm_start\n",
        "total_str = f'トータル時間:{total:.1f}s({total/60:.2f}min)'\n",
        "count_str = f'ダウンロード数:{count}'\n",
        "print(total_str)\n",
        "print(count_str)"
      ],
      "metadata": {
        "colab": {
          "base_uri": "https://localhost:8080/"
        },
        "id": "-mSbbYCpHc85",
        "outputId": "094c1738-8ce8-4554-ade9-a03d535de383"
      },
      "execution_count": 16,
      "outputs": [
        {
          "output_type": "stream",
          "name": "stdout",
          "text": [
            "トータル時間:195.9s(3.26min)\n",
            "ダウンロード数:87\n"
          ]
        }
      ]
    },
    {
      "cell_type": "markdown",
      "source": [
        "## Google検索してダウンロードした画像URLテキストに保存してローカルPCへダウンロードする"
      ],
      "metadata": {
        "id": "fjgKAgZ9PIYK"
      }
    },
    {
      "cell_type": "code",
      "source": [
        "from json import encoder\n",
        "# URLを書き込むテキストファイルの場所\n",
        "DIR_TMP = SAVE_DIR + '/url/'\n",
        "os.makedirs(DIR_TMP,exist_ok = True)\n",
        "path = SAVE_DIR + '/url/' + '_url.txt'\n",
        "with open(path,'w', encoding='utf-8') as f:\n",
        "  f.write(dt_date_str + '\\n')\n",
        "  f.write(total_str + '\\n')\n",
        "  f.write(count_str + '\\n')\n",
        "  f.write('\\n'.join(url_list))\n",
        "driver.quit()"
      ],
      "metadata": {
        "id": "QT20cU3miFE9"
      },
      "execution_count": 17,
      "outputs": []
    },
    {
      "cell_type": "markdown",
      "source": [
        "## URLテキストと画像ファイルをローカルPCにダウンロード"
      ],
      "metadata": {
        "id": "y4k9o_cnRwjb"
      }
    },
    {
      "cell_type": "code",
      "source": [
        "!zip -r /content/img_download.zip /content/img\n",
        "from google.colab import files\n",
        "files.download(\"/content/img_download.zip\")"
      ],
      "metadata": {
        "colab": {
          "base_uri": "https://localhost:8080/",
          "height": 1000
        },
        "id": "2q5hDM_MRCmT",
        "outputId": "b6c05742-7847-41b2-b25d-2c9bf33f9db4"
      },
      "execution_count": 19,
      "outputs": [
        {
          "output_type": "stream",
          "name": "stdout",
          "text": [
            "updating: content/img/ (stored 0%)\n",
            "updating: content/img/dog_/ (stored 0%)\n",
            "updating: content/img/dog_/dog_28.jpg (deflated 1%)\n",
            "updating: content/img/dog_/dog_51.png (deflated 0%)\n",
            "updating: content/img/dog_/dog_68.jpg (deflated 1%)\n",
            "updating: content/img/dog_/dog_72.png (deflated 0%)\n",
            "updating: content/img/dog_/dog_15.jpg (deflated 0%)\n",
            "updating: content/img/dog_/dog_62.jpg (deflated 0%)\n",
            "updating: content/img/dog_/dog_3.jpg (deflated 1%)\n",
            "updating: content/img/dog_/dog_38.png (deflated 1%)\n",
            "updating: content/img/dog_/dog_53.jpg (deflated 0%)\n",
            "updating: content/img/dog_/dog_71.jpg (deflated 0%)\n",
            "updating: content/img/dog_/dog_42.jpg (deflated 0%)\n",
            "updating: content/img/dog_/dog_61.jpg (deflated 0%)\n",
            "updating: content/img/dog_/dog_27.jpg (deflated 0%)\n",
            "updating: content/img/dog_/dog_58.jpg (deflated 3%)\n",
            "updating: content/img/dog_/dog_30.png (deflated 1%)\n",
            "updating: content/img/dog_/dog_25.jpg (deflated 1%)\n",
            "updating: content/img/dog_/dog_86.jpg (deflated 0%)\n",
            "updating: content/img/dog_/dog_74.jpg (deflated 1%)\n",
            "updating: content/img/dog_/dog_10.jpg (deflated 1%)\n",
            "updating: content/img/dog_/dog_81.jpg (deflated 1%)\n",
            "updating: content/img/dog_/dog_56.jpg (deflated 0%)\n",
            "updating: content/img/dog_/dog_63.png (deflated 4%)\n",
            "updating: content/img/dog_/dog_24.jpg (deflated 9%)\n",
            "updating: content/img/dog_/dog_73.jpg (deflated 2%)\n",
            "updating: content/img/dog_/dog_80.jpg (deflated 0%)\n",
            "updating: content/img/dog_/dog_7.jpg (deflated 0%)\n",
            "updating: content/img/dog_/dog_46.jpg (deflated 4%)\n",
            "updating: content/img/dog_/dog_9.jpg (deflated 1%)\n",
            "updating: content/img/dog_/dog_49.png (deflated 2%)\n",
            "updating: content/img/dog_/dog_79.png (deflated 1%)\n",
            "updating: content/img/dog_/dog_75.jpg (deflated 5%)\n",
            "updating: content/img/dog_/dog_41.jpg (deflated 6%)\n",
            "updating: content/img/dog_/dog_20.jpg (deflated 0%)\n",
            "updating: content/img/dog_/dog_52.jpg (deflated 1%)\n",
            "updating: content/img/dog_/dog_57.jpg (deflated 3%)\n",
            "updating: content/img/dog_/dog_70.jpg (deflated 0%)\n",
            "updating: content/img/dog_/dog_48.jpg (deflated 0%)\n",
            "updating: content/img/dog_/dog_40.png (deflated 1%)\n",
            "updating: content/img/dog_/dog_26.png (deflated 5%)\n",
            "updating: content/img/dog_/dog_32.png (deflated 0%)\n",
            "updating: content/img/dog_/dog_82.jpg (deflated 1%)\n",
            "updating: content/img/dog_/dog_35.jpg (deflated 1%)\n",
            "updating: content/img/dog_/dog_16.jpg (deflated 12%)\n",
            "updating: content/img/dog_/dog_67.jpg (deflated 0%)\n",
            "updating: content/img/dog_/dog_76.jpg (deflated 6%)\n",
            "updating: content/img/dog_/dog_21.jpg (deflated 0%)\n",
            "updating: content/img/dog_/dog_39.jpg (deflated 1%)\n",
            "updating: content/img/dog_/dog_59.jpg (deflated 4%)\n",
            "updating: content/img/dog_/dog_37.png (deflated 0%)\n",
            "updating: content/img/dog_/dog_84.jpg (deflated 4%)\n",
            "updating: content/img/dog_/dog_8.jpg (deflated 1%)\n",
            "updating: content/img/dog_/dog_69.jpg (deflated 1%)\n",
            "updating: content/img/dog_/dog_60.jpg (deflated 17%)\n",
            "updating: content/img/dog_/dog_45.jpg (deflated 0%)\n",
            "updating: content/img/dog_/url/ (stored 0%)\n",
            "updating: content/img/dog_/url/_url.txt (deflated 59%)\n",
            "updating: content/img/dog_/dog_17.jpg (deflated 1%)\n",
            "updating: content/img/dog_/dog_2.jpg (deflated 0%)\n",
            "updating: content/img/dog_/dog_23.jpg (deflated 1%)\n",
            "updating: content/img/dog_/dog_5.jpg (deflated 1%)\n",
            "updating: content/img/dog_/dog_13.jpg (deflated 0%)\n",
            "updating: content/img/dog_/dog_43.jpg (deflated 2%)\n",
            "updating: content/img/dog_/dog_29.jpg (deflated 0%)\n",
            "updating: content/img/dog_/dog_66.png (deflated 0%)\n",
            "updating: content/img/dog_/dog_55.jpg (deflated 1%)\n",
            "updating: content/img/dog_/dog_19.jpg (deflated 2%)\n",
            "updating: content/img/dog_/dog_64.jpg (deflated 0%)\n",
            "updating: content/img/dog_/dog_44.jpg (deflated 1%)\n",
            "updating: content/img/dog_/dog_77.jpg (deflated 14%)\n",
            "updating: content/img/dog_/dog_11.jpg (deflated 1%)\n",
            "updating: content/img/dog_/dog_14.jpg (deflated 4%)\n",
            "updating: content/img/dog_/dog_83.jpg (deflated 0%)\n",
            "updating: content/img/dog_/dog_33.png (deflated 11%)\n",
            "updating: content/img/dog_/dog_47.jpg (deflated 1%)\n",
            "updating: content/img/dog_/dog_0.jpg (deflated 0%)\n",
            "updating: content/img/dog_/dog_12.jpg (deflated 9%)\n",
            "updating: content/img/dog_/dog_6.jpg (deflated 0%)\n",
            "updating: content/img/dog_/dog_65.jpg (deflated 20%)\n",
            "updating: content/img/dog_/dog_50.jpg (deflated 1%)\n",
            "updating: content/img/dog_/dog_18.jpg (deflated 1%)\n",
            "updating: content/img/dog_/dog_34.jpg (deflated 0%)\n",
            "updating: content/img/dog_/dog_78.png (deflated 0%)\n",
            "updating: content/img/dog_/dog_36.jpg (deflated 1%)\n",
            "updating: content/img/dog_/dog_85.jpg (deflated 0%)\n",
            "updating: content/img/dog_/dog_22.jpg (deflated 1%)\n",
            "updating: content/img/dog_/dog_1.jpg (deflated 2%)\n",
            "updating: content/img/dog_/dog_4.jpg (deflated 0%)\n"
          ]
        },
        {
          "output_type": "display_data",
          "data": {
            "text/plain": [
              "<IPython.core.display.Javascript object>"
            ],
            "application/javascript": [
              "\n",
              "    async function download(id, filename, size) {\n",
              "      if (!google.colab.kernel.accessAllowed) {\n",
              "        return;\n",
              "      }\n",
              "      const div = document.createElement('div');\n",
              "      const label = document.createElement('label');\n",
              "      label.textContent = `Downloading \"${filename}\": `;\n",
              "      div.appendChild(label);\n",
              "      const progress = document.createElement('progress');\n",
              "      progress.max = size;\n",
              "      div.appendChild(progress);\n",
              "      document.body.appendChild(div);\n",
              "\n",
              "      const buffers = [];\n",
              "      let downloaded = 0;\n",
              "\n",
              "      const channel = await google.colab.kernel.comms.open(id);\n",
              "      // Send a message to notify the kernel that we're ready.\n",
              "      channel.send({})\n",
              "\n",
              "      for await (const message of channel.messages) {\n",
              "        // Send a message to notify the kernel that we're ready.\n",
              "        channel.send({})\n",
              "        if (message.buffers) {\n",
              "          for (const buffer of message.buffers) {\n",
              "            buffers.push(buffer);\n",
              "            downloaded += buffer.byteLength;\n",
              "            progress.value = downloaded;\n",
              "          }\n",
              "        }\n",
              "      }\n",
              "      const blob = new Blob(buffers, {type: 'application/binary'});\n",
              "      const a = document.createElement('a');\n",
              "      a.href = window.URL.createObjectURL(blob);\n",
              "      a.download = filename;\n",
              "      div.appendChild(a);\n",
              "      a.click();\n",
              "      div.remove();\n",
              "    }\n",
              "  "
            ]
          },
          "metadata": {}
        },
        {
          "output_type": "display_data",
          "data": {
            "text/plain": [
              "<IPython.core.display.Javascript object>"
            ],
            "application/javascript": [
              "download(\"download_5dd393a3-e953-4075-9200-e6da6a7e89de\", \"img_download.zip\", 17875471)"
            ]
          },
          "metadata": {}
        }
      ]
    },
    {
      "cell_type": "code",
      "source": [],
      "metadata": {
        "id": "1gsD5rQlT-2w"
      },
      "execution_count": null,
      "outputs": []
    }
  ]
}