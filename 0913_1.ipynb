{
  "nbformat": 4,
  "nbformat_minor": 0,
  "metadata": {
    "colab": {
      "provenance": [],
      "toc_visible": true,
      "authorship_tag": "ABX9TyPN0tM5d3GzAsC1cQf/AGIR",
      "include_colab_link": true
    },
    "kernelspec": {
      "name": "python3",
      "display_name": "Python 3"
    },
    "language_info": {
      "name": "python"
    }
  },
  "cells": [
    {
      "cell_type": "markdown",
      "metadata": {
        "id": "view-in-github",
        "colab_type": "text"
      },
      "source": [
        "<a href=\"https://colab.research.google.com/github/Saitou0813/DeepLearning2022Late/blob/main/0913_1.ipynb\" target=\"_parent\"><img src=\"https://colab.research.google.com/assets/colab-badge.svg\" alt=\"Open In Colab\"/></a>"
      ]
    },
    {
      "cell_type": "markdown",
      "source": [
        "###リスト型とタプル型\n",
        "\n",
        "\n",
        "\n"
      ],
      "metadata": {
        "id": "LxeQJG9EXZAL"
      }
    },
    {
      "cell_type": "code",
      "source": [
        "#リスト\n",
        "list = ['アップル', 'ペン' , 'ペン', 'パイナップル' ]\n",
        "print(list)\n",
        "print(list[1] + list[2])"
      ],
      "metadata": {
        "colab": {
          "base_uri": "https://localhost:8080/"
        },
        "id": "tJXL6f7KVf7a",
        "outputId": "8cb82651-7e0e-40a6-b68f-971c1eafcd4c"
      },
      "execution_count": null,
      "outputs": [
        {
          "output_type": "stream",
          "name": "stdout",
          "text": [
            "['アップル', 'ペン', 'ペン', 'パイナップル']\n",
            "ペンペン\n"
          ]
        }
      ]
    },
    {
      "cell_type": "code",
      "source": [
        "#タプル\n",
        "tuple = ('アップル', 'ペン' , 'ペン', 'パイナップル' )\n",
        "print(tuple)\n",
        "print(tuple[1] + tuple[2] )"
      ],
      "metadata": {
        "colab": {
          "base_uri": "https://localhost:8080/"
        },
        "id": "4u_D-i6VV3zr",
        "outputId": "94871d98-0376-468c-9f1e-d87d4cca077e"
      },
      "execution_count": null,
      "outputs": [
        {
          "output_type": "stream",
          "name": "stdout",
          "text": [
            "('アップル', 'ペン', 'ペン', 'パイナップル')\n",
            "ペンペン\n"
          ]
        }
      ]
    },
    {
      "cell_type": "markdown",
      "source": [
        "###構成を変更できるのはリスト\n",
        "###構成を変更できない（固定）はタプル"
      ],
      "metadata": {
        "id": "Uj4neoVzXOYR"
      }
    },
    {
      "cell_type": "code",
      "source": [
        "#リストの構成変更\n",
        "print(list)\n",
        "list.append(100) #文字列データのリストにあえて数値を追加\n",
        "print(list)\n",
        "del list[2] #リストの3番目を削除\n",
        "print(list)\n",
        "list[3] ='ペン' #数値100を'ペン'に更新\n",
        "print(list)\n",
        "list.insert(2, 'ペン' ) #2番目の位置に'ペン'を挿入\n",
        "print(list)"
      ],
      "metadata": {
        "colab": {
          "base_uri": "https://localhost:8080/"
        },
        "id": "BAQUPVyiWxBG",
        "outputId": "aed934be-5770-4a74-8785-5faaa68d5cab"
      },
      "execution_count": null,
      "outputs": [
        {
          "output_type": "stream",
          "name": "stdout",
          "text": [
            "['アップル', 'ペン', 'ペン', 'パイナップル']\n",
            "['アップル', 'ペン', 'ペン', 'パイナップル', 100]\n",
            "['アップル', 'ペン', 'パイナップル', 100]\n",
            "['アップル', 'ペン', 'パイナップル', 'ペン']\n",
            "['アップル', 'ペン', 'ペン', 'パイナップル', 'ペン']\n"
          ]
        }
      ]
    },
    {
      "cell_type": "code",
      "source": [
        "print(list)\n",
        "len(list)"
      ],
      "metadata": {
        "colab": {
          "base_uri": "https://localhost:8080/"
        },
        "id": "yGs9EV8uYVKe",
        "outputId": "c0d53a3a-e4a2-48fd-90bd-591b87ea9737"
      },
      "execution_count": null,
      "outputs": [
        {
          "output_type": "stream",
          "name": "stdout",
          "text": [
            "['アップル', 'ペン', 'ペン', 'パイナップル', 'ペン']\n"
          ]
        },
        {
          "output_type": "execute_result",
          "data": {
            "text/plain": [
              "5"
            ]
          },
          "metadata": {},
          "execution_count": 4
        }
      ]
    },
    {
      "cell_type": "markdown",
      "source": [
        "###スライス\n",
        "データを抽出する（データの一部分をとりだす）"
      ],
      "metadata": {
        "id": "vSo1muBOb9Nu"
      }
    },
    {
      "cell_type": "code",
      "source": [
        "print(list)\n",
        "print(list[1]) #何番目の要素の指定の仕方と同じ考えかた\n",
        "print(list[1:3]) #1番目から3番目までの範囲を指定して抽出 =　スライス\n",
        "print(list[1:]) #1番目から最後まで抽出（スライス）"
      ],
      "metadata": {
        "colab": {
          "base_uri": "https://localhost:8080/"
        },
        "id": "2GkB4o1zbiha",
        "outputId": "2bcdb1db-7d05-43ff-87b1-ea9a8ba0a2e0"
      },
      "execution_count": null,
      "outputs": [
        {
          "output_type": "stream",
          "name": "stdout",
          "text": [
            "['アップル', 'ペン', 'ペン', 'パイナップル', 'ペン']\n",
            "ペン\n",
            "['ペン', 'ペン']\n",
            "['ペン', 'ペン', 'パイナップル', 'ペン']\n"
          ]
        }
      ]
    },
    {
      "cell_type": "markdown",
      "source": [
        "# SET型（集合型）\n",
        "集合型SETは、順番を持たない。重複したデータも持たない"
      ],
      "metadata": {
        "id": "KXL_PX6zevOf"
      }
    },
    {
      "cell_type": "code",
      "source": [
        "# uniqという名前のset型変数を作る\n",
        "uniq = set(['アップル', 'ペン', 'ペン', 'パイナップル'])\n",
        "print(uniq) #リストの時点では'ペン'が重複できていたが、set型になって重複が消える"
      ],
      "metadata": {
        "colab": {
          "base_uri": "https://localhost:8080/"
        },
        "id": "OzG8GAKtcTNV",
        "outputId": "3d8f4478-5efe-4673-a8d9-7c6db03f35a9"
      },
      "execution_count": null,
      "outputs": [
        {
          "output_type": "stream",
          "name": "stdout",
          "text": [
            "{'ペン', 'パイナップル', 'アップル'}\n"
          ]
        }
      ]
    },
    {
      "cell_type": "markdown",
      "source": [
        "#集合型の追加変更削除"
      ],
      "metadata": {
        "id": "GQwdGTrSg76Q"
      }
    },
    {
      "cell_type": "code",
      "source": [
        "print(uniq)\n",
        "uniq.add('バナナ') #追加\n",
        "uniq.remove('ペン') #削除\n",
        "print(uniq)"
      ],
      "metadata": {
        "colab": {
          "base_uri": "https://localhost:8080/"
        },
        "id": "1QdSfsBTgXdr",
        "outputId": "0c1f89b3-9851-417f-ef8d-905da6155f4f"
      },
      "execution_count": null,
      "outputs": [
        {
          "output_type": "stream",
          "name": "stdout",
          "text": [
            "{'ペン', 'パイナップル', 'アップル'}\n",
            "{'パイナップル', 'アップル', 'バナナ'}\n"
          ]
        }
      ]
    },
    {
      "cell_type": "markdown",
      "source": [
        "#### 集合演算\n",
        "包括、積、和、差分"
      ],
      "metadata": {
        "id": "eHZAcZt3iN2D"
      }
    },
    {
      "cell_type": "code",
      "source": [
        "#uniqの値を再定義\n",
        "uniq = set(['アップル', 'ペン', 'ペン', 'パイナップル'])\n",
        "a = set(['アップル', 'ペン'])\n",
        "b = set(['ペン', 'パイナップル'])\n",
        "print(uniq)\n",
        "print(a)\n",
        "print(b)\n",
        "#集合aは集合uniqのsubset(部分集合)である？ = 包括関係\n",
        "print(a.issubset(uniq))\n",
        "#データ'ペン'は集合aの中にある？\n",
        "print('ペン' in a)"
      ],
      "metadata": {
        "colab": {
          "base_uri": "https://localhost:8080/"
        },
        "id": "PjWHgqyehDS-",
        "outputId": "59fc1dc8-93d9-4135-da48-e47f5133bbe3"
      },
      "execution_count": null,
      "outputs": [
        {
          "output_type": "stream",
          "name": "stdout",
          "text": [
            "{'ペン', 'パイナップル', 'アップル'}\n",
            "{'ペン', 'アップル'}\n",
            "{'ペン', 'パイナップル'}\n",
            "True\n",
            "True\n"
          ]
        }
      ]
    },
    {
      "cell_type": "code",
      "source": [
        "#ある集合と別の集合の共通部分の要素(intersection)\n",
        "#集合aと集合bの共通集合\n",
        "print(a)\n",
        "print(b)\n",
        "print(a.intersection(b)) #集合aのデータで集合bに共通のもの：積\n",
        "#集合aと集合bの和集合：和集合(setなので重複は削除される)\n",
        "print(a.union(b)) #集合aと集合bの集まり\n",
        "#集合aと集合bの差集合（aのみに含まれる集合)\n",
        "print(a.difference(b))#aからbを取り除いた残り（差分：difference）"
      ],
      "metadata": {
        "colab": {
          "base_uri": "https://localhost:8080/"
        },
        "id": "Hp0yfqefjQ2F",
        "outputId": "0ed81dd9-9320-42b0-a843-434002925111"
      },
      "execution_count": null,
      "outputs": [
        {
          "output_type": "stream",
          "name": "stdout",
          "text": [
            "{'ペン', 'アップル'}\n",
            "{'ペン', 'パイナップル'}\n",
            "{'ペン'}\n",
            "{'ペン', 'パイナップル', 'アップル'}\n",
            "{'アップル'}\n"
          ]
        }
      ]
    },
    {
      "cell_type": "code",
      "source": [],
      "metadata": {
        "id": "mO14TGHvqyO2"
      },
      "execution_count": null,
      "outputs": []
    }
  ]
}