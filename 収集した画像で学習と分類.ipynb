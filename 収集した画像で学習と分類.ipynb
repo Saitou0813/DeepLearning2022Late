{
  "nbformat": 4,
  "nbformat_minor": 0,
  "metadata": {
    "colab": {
      "provenance": [],
      "authorship_tag": "ABX9TyMmlTM/E5U2XymBSYgJc341",
      "include_colab_link": true
    },
    "kernelspec": {
      "name": "python3",
      "display_name": "Python 3"
    },
    "language_info": {
      "name": "python"
    },
    "accelerator": "GPU",
    "gpuClass": "standard"
  },
  "cells": [
    {
      "cell_type": "markdown",
      "metadata": {
        "id": "view-in-github",
        "colab_type": "text"
      },
      "source": [
        "<a href=\"https://colab.research.google.com/github/Saitou0813/DeepLearning2022Late/blob/main/%E5%8F%8E%E9%9B%86%E3%81%97%E3%81%9F%E7%94%BB%E5%83%8F%E3%81%A7%E5%AD%A6%E7%BF%92%E3%81%A8%E5%88%86%E9%A1%9E.ipynb\" target=\"_parent\"><img src=\"https://colab.research.google.com/assets/colab-badge.svg\" alt=\"Open In Colab\"/></a>"
      ]
    },
    {
      "cell_type": "markdown",
      "source": [
        "# 収集した画像をColabにUPして学習させ、それをもとに分類させる"
      ],
      "metadata": {
        "id": "ixoxpQvtV3c7"
      }
    },
    {
      "cell_type": "code",
      "execution_count": null,
      "metadata": {
        "id": "dfhSTTP7VITm"
      },
      "outputs": [],
      "source": [
        "import os\n",
        "os.makedirs('sample', exist_ok=True)\n",
        "os.makedirs('output/dog/sample', exist_ok=True)\n",
        "os.makedirs('output/cat/sample', exist_ok=True)\n",
        "os.makedirs('img/deep_learning/dog', exist_ok=True)\n",
        "os.makedirs('img/deep_learning/cat', exist_ok=True)"
      ]
    },
    {
      "cell_type": "markdown",
      "source": [
        "## 必要なライブラリをimport"
      ],
      "metadata": {
        "id": "JKitUG4eYUYl"
      }
    },
    {
      "cell_type": "code",
      "source": [
        "import cv2\n",
        "import numpy as np\n",
        "import glob as glob\n",
        "from sklearn.model_selection import train_test_split\n",
        "from keras.utils import np_utils"
      ],
      "metadata": {
        "id": "Ob_EIX0wX3Es"
      },
      "execution_count": null,
      "outputs": []
    },
    {
      "cell_type": "markdown",
      "source": [
        "## 分類（クラス）の名前をフォルダ名（dog,cat）から引用する"
      ],
      "metadata": {
        "id": "t3kjg4CGZuKB"
      }
    },
    {
      "cell_type": "code",
      "source": [
        "path = \"img/deep_learning\"\n",
        "folders = os.listdir(path)\n",
        "classes = [f for f in folders if os.path.isdir(os.path.join(path, f))]\n",
        "print(classes)\n",
        "n_classes = len(classes)\n",
        "print(n_classes)"
      ],
      "metadata": {
        "colab": {
          "base_uri": "https://localhost:8080/"
        },
        "id": "lkaL-l-vZMBc",
        "outputId": "5a3c7f77-a70f-4255-e1e8-5228f07d0e79"
      },
      "execution_count": null,
      "outputs": [
        {
          "output_type": "stream",
          "name": "stdout",
          "text": [
            "['dog', 'cat']\n",
            "2\n"
          ]
        }
      ]
    },
    {
      "cell_type": "markdown",
      "source": [
        "## 画像を読み込みリサイズ、整形する"
      ],
      "metadata": {
        "id": "Mp5C4Gux-PqG"
      }
    },
    {
      "cell_type": "code",
      "source": [
        "# 画像とラベルのための配列\n",
        "X = [] # 画像(学習用データの配列)\n",
        "Y = [] # ラベル(正解用の配列)\n",
        "\n",
        "# 画像を読み込みつつリサイズする\n",
        "for label, class_name in enumerate(classes):\n",
        "  files = glob.glob( path + \"/\" + class_name + \"/*jpg\")\n",
        "  for file in files:\n",
        "    img = cv2.imread(file)\n",
        "    img = cv2.resize( img, dsize=(224,224))\n",
        "    X.append(img)\n",
        "    Y.append(label)\n",
        "    # 内部ループ終わり\n",
        "# 外部ループ終わり"
      ],
      "metadata": {
        "id": "DUTbilG3bi09"
      },
      "execution_count": null,
      "outputs": []
    },
    {
      "cell_type": "markdown",
      "source": [
        "## 0～255のビットデータ値を、学習のために0～1に変換（正規化）学習精度を上げる"
      ],
      "metadata": {
        "id": "g1OCJXfCFWMH"
      }
    },
    {
      "cell_type": "code",
      "source": [
        "X = np.array( X ) # 配列XをNumpy配列に変換\n",
        "X = X.astype('float32')# 少数型に変換\n",
        "X /= 255.0\n",
        "# ラベルもnumpyの配列に変換\n",
        "Y = np.array( Y )\n",
        "Y = np_utils.to_categorical( Y, n_classes)"
      ],
      "metadata": {
        "id": "8DAMKtP4CXYA"
      },
      "execution_count": null,
      "outputs": []
    },
    {
      "cell_type": "markdown",
      "source": [
        "## 整形したデータを学習用とテスト検証用に振り分ける"
      ],
      "metadata": {
        "id": "6HnARjE8GfDf"
      }
    },
    {
      "cell_type": "code",
      "source": [
        "# 学習データ8割、テスト検証用が2割に分ける\n",
        "X_train, X_test, Y_train, Y_test = train_test_split( X, Y, test_size=0.2)\n",
        "# 学習用データ8割(画像問題データ)\n",
        "print(X_train.shape)\n",
        "# テストデータ2割(画像問題データ)\n",
        "print( X_test.shape )\n",
        "# 学習用データ8割(正解ラベル)\n",
        "print( Y_train.shape )\n",
        "# テスト用データ2割(正解ラベル)\n",
        "print( Y_test.shape )"
      ],
      "metadata": {
        "colab": {
          "base_uri": "https://localhost:8080/"
        },
        "id": "Rnnr_HuDGdd7",
        "outputId": "33b8940e-03ce-45cf-fb8e-aa457d316c0b"
      },
      "execution_count": null,
      "outputs": [
        {
          "output_type": "stream",
          "name": "stdout",
          "text": [
            "(120, 224, 224, 3)\n",
            "(31, 224, 224, 3)\n",
            "(120, 2)\n",
            "(31, 2)\n"
          ]
        }
      ]
    },
    {
      "cell_type": "markdown",
      "source": [
        "## 準備したデータを学習させていく"
      ],
      "metadata": {
        "id": "G9eLnr3ALY7g"
      }
    },
    {
      "cell_type": "markdown",
      "source": [
        "###学習に必要なライブラリをimport"
      ],
      "metadata": {
        "id": "geKaNuu-LZNm"
      }
    },
    {
      "cell_type": "code",
      "source": [
        "from keras.applications.vgg16 import VGG16\n",
        "from keras.models import Sequential,Model\n",
        "from keras.layers import Input,Activation,Dense,Flatten,Dropout\n",
        "from keras.optimizers import Adam"
      ],
      "metadata": {
        "id": "G7onJ5m4IRAM"
      },
      "execution_count": null,
      "outputs": []
    },
    {
      "cell_type": "markdown",
      "source": [
        "## モデルのVGG16をアレンジしていく"
      ],
      "metadata": {
        "id": "4ER-JccbS1Rx"
      }
    },
    {
      "cell_type": "code",
      "source": [
        "# VGG16 入力層を用意する（定義する）\n",
        "input_tensor = Input(shape=(224,224,3))\n",
        "# VGG16のインスタンスを作る（最後のsoftmaxの1000層を無効にして省く）\n",
        "base_model = VGG16( weights='imagenet', input_tensor=input_tensor, include_top=False)"
      ],
      "metadata": {
        "id": "XO2lgnslMiHa",
        "colab": {
          "base_uri": "https://localhost:8080/"
        },
        "outputId": "cb6994e4-8a80-49be-f61c-83967f2a1b4d"
      },
      "execution_count": null,
      "outputs": [
        {
          "output_type": "stream",
          "name": "stdout",
          "text": [
            "Downloading data from https://storage.googleapis.com/tensorflow/keras-applications/vgg16/vgg16_weights_tf_dim_ordering_tf_kernels_notop.h5\n",
            "58889256/58889256 [==============================] - 3s 0us/step\n"
          ]
        }
      ]
    },
    {
      "cell_type": "markdown",
      "source": [
        "### 1000分類のsoftmaxを外した代わりに、2つに分類するsoftmax層を追加する"
      ],
      "metadata": {
        "id": "v46Tv6SbWbhS"
      }
    },
    {
      "cell_type": "code",
      "source": [
        "# 追加する層の作成\n",
        "top_model = Sequential( ) # ラッピングする層\n",
        "top_model.add(Flatten(input_shape=base_model.output_shape[1:]))\n",
        "top_model.add(Dense(n_classes,activation='softmax'))"
      ],
      "metadata": {
        "id": "k3DN_yA9WaAW"
      },
      "execution_count": null,
      "outputs": []
    },
    {
      "cell_type": "markdown",
      "source": [
        "## 最後のsoftmaxを外したモデル（basemodel）と追加用の2つに分類するsoftmax層のモデル（top_model）をつなげる"
      ],
      "metadata": {
        "id": "mhfG2jpMaena"
      }
    },
    {
      "cell_type": "code",
      "source": [
        "model = Model(inputs=base_model.input, outputs=top_model(base_model.output))"
      ],
      "metadata": {
        "id": "UE9ANCCpYRc_"
      },
      "execution_count": null,
      "outputs": []
    },
    {
      "cell_type": "markdown",
      "source": [
        "## 時間短縮のために、15層までを外す"
      ],
      "metadata": {
        "id": "FronPzL-bwSp"
      }
    },
    {
      "cell_type": "code",
      "source": [
        "# ループしながら15層までを無効にする\n",
        "for layer in model.layers[:15]:\n",
        "  layer.trainable = False # 15層までは学習しない\n",
        "# ループ終わり\n",
        "print('# laers=',len(model.layers)) # モデルの層の数を表示"
      ],
      "metadata": {
        "id": "_fqcQem2bDky",
        "colab": {
          "base_uri": "https://localhost:8080/"
        },
        "outputId": "5fded82c-9aaa-45f4-81da-dc51ccbc42e5"
      },
      "execution_count": null,
      "outputs": [
        {
          "output_type": "stream",
          "name": "stdout",
          "text": [
            "# laers= 20\n"
          ]
        }
      ]
    },
    {
      "cell_type": "markdown",
      "source": [
        "## 学習モデルをコンパイルする"
      ],
      "metadata": {
        "id": "xqTxiNqtcnB_"
      }
    },
    {
      "cell_type": "code",
      "source": [
        "# 損失はクロスエントロピー法で算出、最低\n",
        "model.compile(loss='categorical_crossentropy',\n",
        "              optimizer='adam', metrics=['accuracy'])"
      ],
      "metadata": {
        "id": "rCdTou2TcYbd"
      },
      "execution_count": null,
      "outputs": []
    },
    {
      "cell_type": "markdown",
      "source": [
        "## コンパイルしたモデルを表示"
      ],
      "metadata": {
        "id": "k-3IWPDsee9b"
      }
    },
    {
      "cell_type": "code",
      "source": [
        "model.summary()"
      ],
      "metadata": {
        "id": "iyguSgEheduk",
        "colab": {
          "base_uri": "https://localhost:8080/"
        },
        "outputId": "ab21f064-058f-4916-dc2a-c91eb112455c"
      },
      "execution_count": null,
      "outputs": [
        {
          "output_type": "stream",
          "name": "stdout",
          "text": [
            "Model: \"model\"\n",
            "_________________________________________________________________\n",
            " Layer (type)                Output Shape              Param #   \n",
            "=================================================================\n",
            " input_1 (InputLayer)        [(None, 224, 224, 3)]     0         \n",
            "                                                                 \n",
            " block1_conv1 (Conv2D)       (None, 224, 224, 64)      1792      \n",
            "                                                                 \n",
            " block1_conv2 (Conv2D)       (None, 224, 224, 64)      36928     \n",
            "                                                                 \n",
            " block1_pool (MaxPooling2D)  (None, 112, 112, 64)      0         \n",
            "                                                                 \n",
            " block2_conv1 (Conv2D)       (None, 112, 112, 128)     73856     \n",
            "                                                                 \n",
            " block2_conv2 (Conv2D)       (None, 112, 112, 128)     147584    \n",
            "                                                                 \n",
            " block2_pool (MaxPooling2D)  (None, 56, 56, 128)       0         \n",
            "                                                                 \n",
            " block3_conv1 (Conv2D)       (None, 56, 56, 256)       295168    \n",
            "                                                                 \n",
            " block3_conv2 (Conv2D)       (None, 56, 56, 256)       590080    \n",
            "                                                                 \n",
            " block3_conv3 (Conv2D)       (None, 56, 56, 256)       590080    \n",
            "                                                                 \n",
            " block3_pool (MaxPooling2D)  (None, 28, 28, 256)       0         \n",
            "                                                                 \n",
            " block4_conv1 (Conv2D)       (None, 28, 28, 512)       1180160   \n",
            "                                                                 \n",
            " block4_conv2 (Conv2D)       (None, 28, 28, 512)       2359808   \n",
            "                                                                 \n",
            " block4_conv3 (Conv2D)       (None, 28, 28, 512)       2359808   \n",
            "                                                                 \n",
            " block4_pool (MaxPooling2D)  (None, 14, 14, 512)       0         \n",
            "                                                                 \n",
            " block5_conv1 (Conv2D)       (None, 14, 14, 512)       2359808   \n",
            "                                                                 \n",
            " block5_conv2 (Conv2D)       (None, 14, 14, 512)       2359808   \n",
            "                                                                 \n",
            " block5_conv3 (Conv2D)       (None, 14, 14, 512)       2359808   \n",
            "                                                                 \n",
            " block5_pool (MaxPooling2D)  (None, 7, 7, 512)         0         \n",
            "                                                                 \n",
            " sequential (Sequential)     (None, 2)                 50178     \n",
            "                                                                 \n",
            "=================================================================\n",
            "Total params: 14,764,866\n",
            "Trainable params: 7,129,602\n",
            "Non-trainable params: 7,635,264\n",
            "_________________________________________________________________\n"
          ]
        }
      ]
    },
    {
      "cell_type": "markdown",
      "source": [
        "## コンパイルしたモデルで収集した画像データを学習させる"
      ],
      "metadata": {
        "id": "GuDtS9f6f020"
      }
    },
    {
      "cell_type": "code",
      "source": [
        "model.fit(X_train,Y_train, epochs=20, batch_size=16)"
      ],
      "metadata": {
        "id": "ovH6ggWJemLa",
        "colab": {
          "base_uri": "https://localhost:8080/"
        },
        "outputId": "4d255bca-db3a-40f9-b397-3a2dfb5f9ef3"
      },
      "execution_count": null,
      "outputs": [
        {
          "output_type": "stream",
          "name": "stdout",
          "text": [
            "Epoch 1/20\n",
            "8/8 [==============================] - 12s 245ms/step - loss: 0.9566 - accuracy: 0.4583\n",
            "Epoch 2/20\n",
            "8/8 [==============================] - 1s 90ms/step - loss: 0.6982 - accuracy: 0.5417\n",
            "Epoch 3/20\n",
            "8/8 [==============================] - 1s 90ms/step - loss: 0.6962 - accuracy: 0.4583\n",
            "Epoch 4/20\n",
            "8/8 [==============================] - 1s 95ms/step - loss: 0.6932 - accuracy: 0.4417\n",
            "Epoch 5/20\n",
            "8/8 [==============================] - 1s 101ms/step - loss: 0.6932 - accuracy: 0.5083\n",
            "Epoch 6/20\n",
            "8/8 [==============================] - 1s 100ms/step - loss: 0.6931 - accuracy: 0.5083\n",
            "Epoch 7/20\n",
            "8/8 [==============================] - 1s 97ms/step - loss: 0.6932 - accuracy: 0.5083\n",
            "Epoch 8/20\n",
            "8/8 [==============================] - 1s 91ms/step - loss: 0.7029 - accuracy: 0.4917\n",
            "Epoch 9/20\n",
            "8/8 [==============================] - 1s 91ms/step - loss: 0.6932 - accuracy: 0.5083\n",
            "Epoch 10/20\n",
            "8/8 [==============================] - 1s 92ms/step - loss: 0.6939 - accuracy: 0.5083\n",
            "Epoch 11/20\n",
            "8/8 [==============================] - 1s 92ms/step - loss: 0.6929 - accuracy: 0.5083\n",
            "Epoch 12/20\n",
            "8/8 [==============================] - 1s 91ms/step - loss: 0.6931 - accuracy: 0.5083\n",
            "Epoch 13/20\n",
            "8/8 [==============================] - 1s 92ms/step - loss: 0.6932 - accuracy: 0.5083\n",
            "Epoch 14/20\n",
            "8/8 [==============================] - 1s 92ms/step - loss: 0.6931 - accuracy: 0.5083\n",
            "Epoch 15/20\n",
            "8/8 [==============================] - 1s 94ms/step - loss: 0.6931 - accuracy: 0.5083\n",
            "Epoch 16/20\n",
            "8/8 [==============================] - 1s 91ms/step - loss: 0.6932 - accuracy: 0.5083\n",
            "Epoch 17/20\n",
            "8/8 [==============================] - 1s 97ms/step - loss: 0.6932 - accuracy: 0.5083\n",
            "Epoch 18/20\n",
            "8/8 [==============================] - 1s 103ms/step - loss: 0.6931 - accuracy: 0.5083\n",
            "Epoch 19/20\n",
            "8/8 [==============================] - 1s 93ms/step - loss: 0.6931 - accuracy: 0.5083\n",
            "Epoch 20/20\n",
            "8/8 [==============================] - 1s 101ms/step - loss: 0.6931 - accuracy: 0.5083\n"
          ]
        },
        {
          "output_type": "execute_result",
          "data": {
            "text/plain": [
              "<keras.callbacks.History at 0x7f4c423e3940>"
            ]
          },
          "metadata": {},
          "execution_count": 14
        }
      ]
    },
    {
      "cell_type": "code",
      "source": [
        "score = model.evaluate(X_test, Y_test, batch_size=16)"
      ],
      "metadata": {
        "id": "f-UYnS9tg2fP",
        "colab": {
          "base_uri": "https://localhost:8080/"
        },
        "outputId": "370654ce-8404-4407-e9b0-392f0d804235"
      },
      "execution_count": null,
      "outputs": [
        {
          "output_type": "stream",
          "name": "stdout",
          "text": [
            "2/2 [==============================] - 2s 2s/step - loss: 0.6933 - accuracy: 0.4839\n"
          ]
        }
      ]
    },
    {
      "cell_type": "markdown",
      "source": [
        "### 作成した学習モデルとクラス分類名を保存"
      ],
      "metadata": {
        "id": "5uUzetScirof"
      }
    },
    {
      "cell_type": "code",
      "source": [
        "import pickle\n",
        "# クラス分類の保存\n",
        "pickle.dump(classes, open('classes.sav','wb')) # オブジェクトをバイナリファイルで保存\n",
        "# 学習モデルの保存\n",
        "model.save('cnn,h5')"
      ],
      "metadata": {
        "id": "S5JPobRgiEP0",
        "colab": {
          "base_uri": "https://localhost:8080/"
        },
        "outputId": "fc86b281-405d-4144-ff64-beb936d54e42"
      },
      "execution_count": null,
      "outputs": [
        {
          "output_type": "stream",
          "name": "stderr",
          "text": [
            "WARNING:absl:Found untraced functions such as _jit_compiled_convolution_op, _jit_compiled_convolution_op, _jit_compiled_convolution_op, _jit_compiled_convolution_op, _jit_compiled_convolution_op while saving (showing 5 of 13). These functions will not be directly callable after loading.\n"
          ]
        }
      ]
    },
    {
      "cell_type": "markdown",
      "source": [
        "## 保存したクラス分類と学習モデルを読み込んで使う"
      ],
      "metadata": {
        "id": "ld1C4PLKkEdk"
      }
    },
    {
      "cell_type": "code",
      "source": [
        "# ライブラリのimport\n",
        "from keras.models import load_model\n",
        "import pickle,cv2,glob"
      ],
      "metadata": {
        "id": "I9QmS2F1jeR4"
      },
      "execution_count": 24,
      "outputs": []
    },
    {
      "cell_type": "markdown",
      "source": [
        "## ファイルを読み込んでオブジェクトとしてよみがえらせる"
      ],
      "metadata": {
        "id": "McXJdYQJlBS2"
      }
    },
    {
      "cell_type": "code",
      "source": [
        "model = load_model('cnn,h5')\n",
        "classes = pickle.load(open('classes.sav', 'rb'))"
      ],
      "metadata": {
        "id": "5lnqjZE0kx3l"
      },
      "execution_count": 25,
      "outputs": []
    },
    {
      "cell_type": "markdown",
      "source": [
        "## Sample画像を読み込む"
      ],
      "metadata": {
        "id": "t_S2XYUAUjnb"
      }
    },
    {
      "cell_type": "code",
      "source": [
        "files = glob.glob('sample/*')\n",
        "print(files)"
      ],
      "metadata": {
        "id": "H3-NxXDMlQy9",
        "colab": {
          "base_uri": "https://localhost:8080/"
        },
        "outputId": "b77091a6-5c16-45fc-d87e-11f4265b2db4"
      },
      "execution_count": 26,
      "outputs": [
        {
          "output_type": "stream",
          "name": "stdout",
          "text": [
            "['sample/cat_82.jpg', 'sample/dog_89.png', 'sample/dog_87.png']\n"
          ]
        }
      ]
    },
    {
      "cell_type": "markdown",
      "source": [
        "## ファイルパスから画像を読み込み、学習モデルに判定させ、該当するoutputフォルダにコピーを書き込む"
      ],
      "metadata": {
        "id": "qe0_ZjkOVrK-"
      }
    },
    {
      "cell_type": "code",
      "source": [
        "for file in files:#ファイルの数だけループ\n",
        "  img = cv2.imread(file) #画像データを読み込む\n",
        "  #判定のためにimgを加工したimg2を作る\n",
        "  img2 = cv2.resize(img,dsize=(224,224))#(224,224)にリサイズ\n",
        "  img2 = img2.astype('float32')\n",
        "  img2 = img2/255.0 #0.0～255.0だったデータを0.0～1.0に変換\n",
        "  img2 = img2[None,...]#1次元配列に変換\n",
        "  #正規化したデータを判定\n",
        "  result = model.predict(img2)\n",
        "  print(result)#画面に生で出力\n",
        "  #確率が高いクラスを取得\n",
        "  pred = result.argmax()\n",
        "  print(pred,str(classes[pred]))\n",
        "  #判定したクラス分類のフォルダのほうに、画像データを書き込む\n",
        "  cv2.imwrite('output/'+str(classes[pred]) + '/' + file, img)"
      ],
      "metadata": {
        "colab": {
          "base_uri": "https://localhost:8080/"
        },
        "id": "WWG835LjVcCc",
        "outputId": "fcfa04d2-27bf-4cda-aca4-89d1856f2b1a"
      },
      "execution_count": 28,
      "outputs": [
        {
          "output_type": "stream",
          "name": "stdout",
          "text": [
            "1/1 [==============================] - 1s 822ms/step\n",
            "[[0.50283235 0.49716765]]\n",
            "0 dog\n",
            "1/1 [==============================] - 0s 17ms/step\n",
            "[[0.50283235 0.49716765]]\n",
            "0 dog\n",
            "1/1 [==============================] - 0s 18ms/step\n",
            "[[0.50283235 0.49716765]]\n",
            "0 dog\n"
          ]
        }
      ]
    },
    {
      "cell_type": "code",
      "source": [],
      "metadata": {
        "id": "c5KajQzgaQwQ"
      },
      "execution_count": null,
      "outputs": []
    }
  ]
}