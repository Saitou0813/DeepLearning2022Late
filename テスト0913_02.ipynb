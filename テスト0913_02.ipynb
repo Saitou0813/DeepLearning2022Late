{
  "nbformat": 4,
  "nbformat_minor": 0,
  "metadata": {
    "colab": {
      "provenance": [],
      "toc_visible": true,
      "collapsed_sections": [],
      "authorship_tag": "ABX9TyNS5iF469L1rT50WwNk60oP",
      "include_colab_link": true
    },
    "kernelspec": {
      "name": "python3",
      "display_name": "Python 3"
    },
    "language_info": {
      "name": "python"
    }
  },
  "cells": [
    {
      "cell_type": "markdown",
      "metadata": {
        "id": "view-in-github",
        "colab_type": "text"
      },
      "source": [
        "<a href=\"https://colab.research.google.com/github/Saitou0813/DeepLearning2022Late/blob/main/%E3%83%86%E3%82%B9%E3%83%880913_02.ipynb\" target=\"_parent\"><img src=\"https://colab.research.google.com/assets/colab-badge.svg\" alt=\"Open In Colab\"/></a>"
      ]
    },
    {
      "cell_type": "markdown",
      "source": [
        "# 辞書型（dictionary \n",
        "キーと値のペアで管理する)"
      ],
      "metadata": {
        "id": "899qele-zRqd"
      }
    },
    {
      "cell_type": "markdown",
      "source": [
        "#辞書型の定義文"
      ],
      "metadata": {
        "id": "kzJG1rOpzY9O"
      }
    },
    {
      "cell_type": "code",
      "execution_count": 1,
      "metadata": {
        "colab": {
          "base_uri": "https://localhost:8080/"
        },
        "id": "7QaWWw7tykwF",
        "outputId": "9075c1eb-385f-4fda-ec79-f19da68d142a"
      },
      "outputs": [
        {
          "output_type": "stream",
          "name": "stdout",
          "text": [
            "{'アップル': 1, 'ペン': 2, 'パイナップル': 3}\n",
            "2\n"
          ]
        }
      ],
      "source": [
        "#辞書型のデータを作って変数dictに代入\n",
        "# { キーワード : 値, 'キーワード' : 値 }　でデータを管理\n",
        "dict = {'アップル':1, 'ペン':2, 'パイナップル' :3}\n",
        "print(dict)\n",
        "#値を利用するときはキーワードで指定\n",
        "print(dict['ペン'])"
      ]
    },
    {
      "cell_type": "markdown",
      "source": [
        "##辞書型のキーワード一覧、値一覧を取得する"
      ],
      "metadata": {
        "id": "UciPdK971bjo"
      }
    },
    {
      "cell_type": "code",
      "source": [
        "print(dict)\n",
        "# dictに入っているキーの一覧\n",
        "print(dict.keys())\n",
        "# dictに入っている値の一覧\n",
        "print(dict.values())"
      ],
      "metadata": {
        "colab": {
          "base_uri": "https://localhost:8080/"
        },
        "id": "V_fUdN8J1k2y",
        "outputId": "f25e8582-fc22-475c-d128-38ec2040641f"
      },
      "execution_count": 2,
      "outputs": [
        {
          "output_type": "stream",
          "name": "stdout",
          "text": [
            "{'アップル': 1, 'ペン': 2, 'パイナップル': 3}\n",
            "dict_keys(['アップル', 'ペン', 'パイナップル'])\n",
            "dict_values([1, 2, 3])\n"
          ]
        }
      ]
    },
    {
      "cell_type": "markdown",
      "source": [
        "#辞書型の追加・削除・更新"
      ],
      "metadata": {
        "id": "5Zz6D1Nw1FVY"
      }
    },
    {
      "cell_type": "code",
      "source": [
        "print(dict)\n",
        "# dictにバナナというキーワードで値を5追加\n",
        "# print(dict.keys())\n",
        "dict['バナナ'] = 5\n",
        "print(dict)\n",
        "# キーワードがすでにあったら、そのキーワードの値を更新\n",
        "dict['バナナ'] = 100\n",
        "print(dict)\n",
        "# キーワードで指定したペアを削除\n",
        "dict.pop('バナナ')\n",
        "print(dict)"
      ],
      "metadata": {
        "colab": {
          "base_uri": "https://localhost:8080/"
        },
        "id": "DOtd8cgxzPcg",
        "outputId": "99b380ef-d0eb-4aae-f48d-735a97e62692"
      },
      "execution_count": 3,
      "outputs": [
        {
          "output_type": "stream",
          "name": "stdout",
          "text": [
            "{'アップル': 1, 'ペン': 2, 'パイナップル': 3}\n",
            "{'アップル': 1, 'ペン': 2, 'パイナップル': 3, 'バナナ': 5}\n",
            "{'アップル': 1, 'ペン': 2, 'パイナップル': 3, 'バナナ': 100}\n",
            "{'アップル': 1, 'ペン': 2, 'パイナップル': 3}\n"
          ]
        }
      ]
    },
    {
      "cell_type": "markdown",
      "source": [
        "# 文字列の整形\n",
        "## 文字列の連結と繰り返し"
      ],
      "metadata": {
        "id": "5jiAYCXI4Z4c"
      }
    },
    {
      "cell_type": "code",
      "source": [
        "# 文字列の連結方法①\n",
        "apple = 'アップル'\n",
        "pen = 'ペン'\n",
        "print(apple + pen) # プラス記号で連結\n",
        "# 文字列の連結方法②　文字列同士を連結する\n",
        "piko = ['ペン', 'パイナップル', 'アップル' ,'ペン']\n",
        "# printメソッドで連結して表示　例：','で連結 ','はなんでもいい\n",
        "print(','.join(piko))\n",
        "# 回数を指定してメッセージを表示\n",
        "pon = 'ポン'\n",
        "print(pon * 3)"
      ],
      "metadata": {
        "colab": {
          "base_uri": "https://localhost:8080/"
        },
        "id": "wPncldRU1Lm7",
        "outputId": "029f2a87-f00a-40af-825f-8be1dc730741"
      },
      "execution_count": 4,
      "outputs": [
        {
          "output_type": "stream",
          "name": "stdout",
          "text": [
            "アップルペン\n",
            "ペン,パイナップル,アップル,ペン\n",
            "ポンポンポン\n"
          ]
        }
      ]
    },
    {
      "cell_type": "markdown",
      "source": [
        "## 【重要】文字列の整形（フォーマット）"
      ],
      "metadata": {
        "id": "L3KSTwob61GO"
      }
    },
    {
      "cell_type": "code",
      "source": [
        "# 定式で指定した形のメッセージにする\n",
        "print('{}{}:{}円')\n",
        "#　スロットを定義した順番に、その数だけデータを引き渡して文章を組み立てる\n",
        "print('{}{}:{}円'.format('アップル', 'ペン', '100'))\n",
        "# スロットを値のインデックスで指定することもできる\n",
        "print('{1}{2}:{0}円'.format(100, 'アップル', 'ペン'))"
      ],
      "metadata": {
        "colab": {
          "base_uri": "https://localhost:8080/"
        },
        "id": "3opjVanO5A6J",
        "outputId": "0383b8ad-2c5c-4a6a-92cf-f166187d1982"
      },
      "execution_count": 5,
      "outputs": [
        {
          "output_type": "stream",
          "name": "stdout",
          "text": [
            "{}{}:{}円\n",
            "アップルペン:100円\n",
            "アップルペン:100円\n"
          ]
        }
      ]
    },
    {
      "cell_type": "markdown",
      "source": [
        "# コレクション演算\n",
        "リスト、タプル、つまり順番がある集合のことをシーケンスという。\n",
        "順番がない集合を集合型(セット)という。\n",
        "上記2種類をまとめてコレクションという。\n",
        "コレクションは共通の演算が使える\n",
        "len(長さ、量を取得)、max（最大値を取得)、min(最小値を取得)など"
      ],
      "metadata": {
        "id": "-1fjd0ceXE8u"
      }
    },
    {
      "cell_type": "code",
      "source": [
        "list = [ 1, 1, 2, 3, 4, 5 ] #6つの要素\n",
        "tuple = ( 10, 9, 7, 7, 8, 8, 9 ) #7つの要素\n",
        "set = { 1, -2, 3, -4, 5, -6, 7, -8 } #8つの要素\n",
        "# リストの長さ、最大値、最小値\n",
        "print(len(list),max(list),min(list))\n",
        "# タプルの長さ、最大値、最小値\n",
        "print(len(tuple),max(tuple),min(tuple))\n",
        "# セットの長さ、最大値、最小値\n",
        "print(len(set),max(set),min(set))"
      ],
      "metadata": {
        "id": "KAktSAqU7yz-",
        "colab": {
          "base_uri": "https://localhost:8080/"
        },
        "outputId": "e9f16b3e-1e90-4af8-8fc5-5a5a93f035b5"
      },
      "execution_count": 8,
      "outputs": [
        {
          "output_type": "stream",
          "name": "stdout",
          "text": [
            "6 5 1\n",
            "7 10 7\n",
            "8 7 -8\n"
          ]
        }
      ]
    },
    {
      "cell_type": "code",
      "source": [],
      "metadata": {
        "id": "VfUGpSd9ZBlO"
      },
      "execution_count": null,
      "outputs": []
    }
  ]
}